{
 "cells": [
  {
   "cell_type": "markdown",
   "id": "917e3043",
   "metadata": {
    "deletable": true,
    "editable": true
   },
   "source": [
    "# Assignment 2\n",
    "\n",
    "**Assignment 2: Evolutionary Algorithms**\n",
    "\n",
    "**Goal**: Implement an Evolutionary Algorithm to solve continuous and discrete problems.\n",
    "\n",
    "* Part1: continuous problem that is concerned with finding minimum of functions, in this case, Sphere and Ackley\n",
    "  functions.\n",
    "\n",
    "* Part 2: discrete problem that is concerned with finding the solution for the N-queens problem. Could be defined as minimization or maximization.\n",
    "\n",
    "For both parts, this assignment requires implementation of the main components of an evolutionary algorithm (i.e. *crossover*, *mutation*, *parent selection*, etc), and construction of your algorithm to solve given problems.\n",
    "\n",
    "Please answer the `Questions` and implement coding `Tasks` by filling **PLEASE FILL IN** sections. *Documentation* of your code is also important. You can find the grading scheme in implementation cells.\n",
    "\n",
    "  * Plagiarism is automatically checked and set to **0 points**\n",
    "\n",
    "  * It is allowed to learn from external resources but copying is not allowed. If you use any external resource, please cite them in the comments (e.g. `# source: https://...../` (see `fitness_function`))"
   ]
  },
  {
   "cell_type": "markdown",
   "id": "96fac135",
   "metadata": {
    "deletable": true,
    "editable": true
   },
   "source": [
    "**Setup**"
   ]
  },
  {
   "cell_type": "markdown",
   "id": "63799bae",
   "metadata": {
    "deletable": true,
    "editable": true
   },
   "source": [
    "**Install Prerequisites (Part 1 and 2)**"
   ]
  },
  {
   "cell_type": "code",
   "execution_count": 2,
   "id": "69a926e5",
   "metadata": {
    "deletable": true,
    "editable": true
   },
   "outputs": [
    {
     "name": "stdout",
     "output_type": "stream",
     "text": [
      "Defaulting to user installation because normal site-packages is not writeable\n",
      "Requirement already satisfied: numpy in c:\\programdata\\anaconda3\\lib\\site-packages (1.24.3)\n",
      "Requirement already satisfied: matplotlib in c:\\programdata\\anaconda3\\lib\\site-packages (3.7.2)\n",
      "Requirement already satisfied: scipy in c:\\programdata\\anaconda3\\lib\\site-packages (1.11.1)\n",
      "Requirement already satisfied: contourpy>=1.0.1 in c:\\programdata\\anaconda3\\lib\\site-packages (from matplotlib) (1.0.5)\n",
      "Requirement already satisfied: cycler>=0.10 in c:\\programdata\\anaconda3\\lib\\site-packages (from matplotlib) (0.11.0)\n",
      "Requirement already satisfied: fonttools>=4.22.0 in c:\\programdata\\anaconda3\\lib\\site-packages (from matplotlib) (4.25.0)\n",
      "Requirement already satisfied: kiwisolver>=1.0.1 in c:\\programdata\\anaconda3\\lib\\site-packages (from matplotlib) (1.4.4)\n",
      "Requirement already satisfied: packaging>=20.0 in c:\\programdata\\anaconda3\\lib\\site-packages (from matplotlib) (23.1)\n",
      "Requirement already satisfied: pillow>=6.2.0 in c:\\programdata\\anaconda3\\lib\\site-packages (from matplotlib) (9.4.0)\n",
      "Requirement already satisfied: pyparsing<3.1,>=2.3.1 in c:\\programdata\\anaconda3\\lib\\site-packages (from matplotlib) (3.0.9)\n",
      "Requirement already satisfied: python-dateutil>=2.7 in c:\\programdata\\anaconda3\\lib\\site-packages (from matplotlib) (2.8.2)\n",
      "Requirement already satisfied: six>=1.5 in c:\\programdata\\anaconda3\\lib\\site-packages (from python-dateutil>=2.7->matplotlib) (1.16.0)\n",
      "Note: you may need to restart the kernel to use updated packages.\n"
     ]
    }
   ],
   "source": [
    "# Run this cell to install the required libraries\n",
    "%pip install numpy matplotlib scipy"
   ]
  },
  {
   "cell_type": "markdown",
   "id": "b52f5c2d",
   "metadata": {
    "deletable": true,
    "editable": true
   },
   "source": [
    "**Imports (Part 1 and 2)**"
   ]
  },
  {
   "cell_type": "code",
   "execution_count": 3,
   "id": "912dd45b",
   "metadata": {
    "deletable": true,
    "editable": true
   },
   "outputs": [],
   "source": [
    "# Necessary libraries\n",
    "import matplotlib.pyplot as plt\n",
    "import numpy as np\n",
    "from scipy.stats import ranksums\n",
    "\n",
    "# Set seed\n",
    "np.random.seed(42)"
   ]
  },
  {
   "cell_type": "markdown",
   "id": "58db0378",
   "metadata": {
    "deletable": true,
    "editable": true
   },
   "source": [
    "**Jupyter Notebook Magic (Part 1 and 2)**"
   ]
  },
  {
   "cell_type": "code",
   "execution_count": 4,
   "id": "873fb170",
   "metadata": {
    "deletable": true,
    "editable": true
   },
   "outputs": [
    {
     "name": "stdout",
     "output_type": "stream",
     "text": [
      "Defaulting to user installation because normal site-packages is not writeable\n",
      "Requirement already satisfied: PyQt5 in c:\\programdata\\anaconda3\\lib\\site-packages (5.15.7)\n",
      "Requirement already satisfied: PyQt5-sip<13,>=12.11 in c:\\programdata\\anaconda3\\lib\\site-packages (from PyQt5) (12.11.0)\n",
      "Note: you may need to restart the kernel to use updated packages.\n"
     ]
    },
    {
     "data": {
      "text/plain": [
       "<contextlib.ExitStack at 0x1e20c857ed0>"
      ]
     },
     "execution_count": 4,
     "metadata": {},
     "output_type": "execute_result"
    }
   ],
   "source": [
    "# Enables inline matplotib graphs\n",
    "#%matplotlib inline\n",
    "\n",
    "# Comment the line above and uncomment the lines below to have interactive plots\n",
    "# WARN: may cause dependency issues\n",
    "%matplotlib qt5\n",
    "%pip install PyQt5\n",
    "plt.ion()"
   ]
  },
  {
   "cell_type": "markdown",
   "id": "fa587ea3",
   "metadata": {
    "deletable": true,
    "editable": true
   },
   "source": [
    "## Part 1: Continuous Optimization (5 points total)\n",
    "\n",
    "In this part of the assignment you will implement an Evolutionary Algorithm to find the minimum of the following functions: [Sphere](https://www.sfu.ca/~ssurjano/spheref.html) and [Ackley](https://www.sfu.ca/~ssurjano/ackley.html) functions.\n"
   ]
  },
  {
   "cell_type": "markdown",
   "id": "43e8cd44",
   "metadata": {
    "deletable": true,
    "editable": true
   },
   "source": [
    "**Function Definitions \\& Plotting**"
   ]
  },
  {
   "cell_type": "markdown",
   "id": "c20280c1",
   "metadata": {
    "deletable": true,
    "editable": true,
    "lines_to_next_cell": 2
   },
   "source": [
    "**Sphere Function**\n"
   ]
  },
  {
   "cell_type": "code",
   "execution_count": 5,
   "id": "b37a59de",
   "metadata": {
    "deletable": true,
    "editable": true,
    "lines_to_next_cell": 2
   },
   "outputs": [],
   "source": [
    "def Sphere(x):\n",
    "    \"\"\"source: https://www.sfu.ca/~ssurjano/spheref.html\"\"\"\n",
    "    dimension = x.shape[0]\n",
    "    return (1 / dimension) * (sum(x**2))"
   ]
  },
  {
   "cell_type": "markdown",
   "id": "d7618f81",
   "metadata": {
    "deletable": true,
    "editable": true,
    "lines_to_next_cell": 2
   },
   "source": [
    "**Ackley Function**"
   ]
  },
  {
   "cell_type": "code",
   "execution_count": 6,
   "id": "d9880702",
   "metadata": {
    "deletable": true,
    "editable": true
   },
   "outputs": [],
   "source": [
    "def Ackley(x):\n",
    "    \"\"\"source: https://www.sfu.ca/~ssurjano/ackley.html\"\"\"\n",
    "\n",
    "    # Ackley function parameters\n",
    "    a = 20\n",
    "    b = 0.2\n",
    "    c = 2 * np.pi\n",
    "    dimension = len(x)\n",
    "\n",
    "    # Individual terms\n",
    "    term1 = -a * np.exp(-b * np.sqrt(sum(x**2) / dimension))\n",
    "    term2 = -np.exp(sum(np.cos(c * xi) for xi in x) / dimension)\n",
    "    return term1 + term2 + a + np.exp(1)"
   ]
  },
  {
   "cell_type": "markdown",
   "id": "af7ef237",
   "metadata": {
    "deletable": true,
    "editable": true
   },
   "source": [
    "**Plotting**"
   ]
  },
  {
   "cell_type": "code",
   "execution_count": 7,
   "id": "c6707a7f",
   "metadata": {
    "deletable": true,
    "editable": true
   },
   "outputs": [],
   "source": [
    "# Generate data for plotting\n",
    "boundary_point, resolution = 5, 500\n",
    "x = np.linspace(-boundary_point, boundary_point, resolution)\n",
    "y = np.linspace(-boundary_point, boundary_point, resolution)\n",
    "\n",
    "# Generate the coordinate points\n",
    "X, Y = np.meshgrid(x, y)\n",
    "positions = np.column_stack([X.ravel(), Y.ravel()])\n",
    "\n",
    "# Get depths for all coordinate positions\n",
    "z_unimodal = np.array(list(map(Sphere, positions))).reshape([resolution, resolution])\n",
    "z_multimodal = np.array(list(map(Ackley, positions))).reshape([resolution, resolution])"
   ]
  },
  {
   "cell_type": "code",
   "execution_count": 8,
   "id": "ded599d2",
   "metadata": {
    "deletable": true,
    "editable": true
   },
   "outputs": [],
   "source": [
    "# Create 3D plot\n",
    "fig = plt.figure(figsize=(15, 8))\n",
    "\n",
    "titles = [\"Sphere Function\", \"Ackley Function\"]\n",
    "for idx, z in enumerate([z_unimodal, z_multimodal]):\n",
    "    # Create sub-plot\n",
    "    ax = fig.add_subplot(121 + idx, projection=\"3d\")\n",
    "\n",
    "    # Plot the surface\n",
    "    ax.plot_surface(X, Y, z, cmap=\"viridis\", edgecolor=\"k\")\n",
    "\n",
    "    # Set labels\n",
    "    ax.set_xlabel(\"X1\")\n",
    "    ax.set_ylabel(\"X2\")\n",
    "    ax.set_title(titles[idx])\n",
    "    # ax.autoscale(True)\n",
    "\n",
    "# Show the plot\n",
    "plt.tight_layout()\n",
    "plt.show()"
   ]
  },
  {
   "cell_type": "markdown",
   "id": "e2ff0bba",
   "metadata": {
    "deletable": true,
    "editable": true
   },
   "source": [
    "---\n",
    "**Question 1.1 (0-0.2 pt):** Looking at the Sphere and Ackley functions, please discuss the characteristics of these functions and compare their complexity in terms of local and global optima.\n",
    "\n",
    "**Answer:** The Sphere functions looks to be a very simple, convex function witha  sincle global minima, and no local minimas. This function looks relatively simpler, making it a good starting point to test the optimization algorithm, but it doesn't represent the complexity that can be found in real-world optimization.\n",
    "\n",
    "The Ackley function looks to be significantly more complex, multimodal function with many local minima and a single global minima. This function looks to be a challenging test case for the optimization algorithm, as it can easily get stuck in the local minima. The global minima of the function is also at its origin but finding it is much more difficult due to the presence of the many local minima."
   ]
  },
  {
   "cell_type": "markdown",
   "id": "3b40dad4",
   "metadata": {
    "deletable": true,
    "editable": true
   },
   "source": [
    "---\n",
    "**Question 1.2 (0-0.25-0.5 pt):** Please provide a pseudo-code for your evolutionary algorithm. Please try to be as formal as possible!\n",
    "\n",
    "**Answer:** \n",
    "\n",
    "1) I Define max_gen as max_fit_evals upon or diveded by population_size.\n",
    "2) I Initialize the population x with random individiuals using population_size and dimensions.\n",
    "3) I evaluate the fitness of the population x using objective_function, then I store the result in f.\n",
    "4) I store the best individual and its fitness in x_best and f_best.\n",
    "5) For each generation from 1 to max_gen -1, I do;\n",
    "\n",
    "    a) Select parents from x based on their fitness f, store them in x_parents, and f_parents.\n",
    "\n",
    "    b) After this, I perform a crossover on x_parents with probability p_crossover, then store the results in x_offspring.\n",
    "\n",
    "    c) I apply mutation on x_offspring with the rate m_rate.\n",
    "\n",
    "    d) after applying the mutation, I evaluate the fitness of x_offpsring using objective_function, then store that result in f_offspring.\n",
    "\n",
    "    e) I seelct the survivors from the combined population of x and x_offpsring based on their combined fitness and then store them in x and f.\n",
    "    \n",
    "    f) Finally, I store the best individual and its fitness in x_best and f_best.\n",
    "\n",
    "6) Return the values x_best and f_best."
   ]
  },
  {
   "cell_type": "markdown",
   "id": "a58f7495",
   "metadata": {
    "deletable": true,
    "editable": true
   },
   "source": [
    "---\n",
    "**Task 1.1: Implementation of Evolutionary Algrotihm (0-0.65-1.3-1.95-2.6 pt):** Implement an evolutionary algorithm and its components to find the minimum point of a function. Here, domain should be between [-50,50]."
   ]
  },
  {
   "cell_type": "code",
   "execution_count": 322,
   "id": "c232e3af",
   "metadata": {
    "deletable": true,
    "editable": true,
    "lines_to_next_cell": 2
   },
   "outputs": [],
   "source": [
    "import numpy as np\n",
    "\n",
    "#Initialize a population randomly based on the population size and dimensions\n",
    "def initialization(population_size, num_dimensions):\n",
    "    \"\"\"\n",
    "    Initialize the starting population with random individuals.\n",
    "    Each gene of an individual corresponds to a point on a dimension in the function\n",
    "    \"\"\"\n",
    "    return np.random.uniform(-50, 50, (population_size, num_dimensions)) # return the initial population\n",
    "\n",
    "\n",
    "    ################################################################\n",
    "\n",
    "    # PLEASE FILL IN\n",
    "    # x = ?\n",
    "\n",
    "    ################################################################\n",
    "\n",
    "# Implement the evaluation function that can evaluate all the solutions in a given population.\n",
    "def evaluation(x, objective_function):\n",
    "    \"\"\"Evaluate the fitness of the population members\"\"\"\n",
    "    fitness= np.apply_along_axis(objective_function, 1, x) # evaluate the fitness of each individual in the population\n",
    "\n",
    "    return fitness\n",
    "    \n",
    "    ################################################################\n",
    "\n",
    "    # PLEASE FILL IN\n",
    "    # fitness = ?\n",
    "\n",
    "\n",
    "\n",
    "# Implement the crossover operator by choosing a suitable method. For inspiration, take a look at the lecture slides\n",
    "def crossover(x_parents, p_crossover):\n",
    "    \"\"\"Perform crossover to create offsprings.\"\"\"\n",
    "    offspring = np.empty_like(x_parents) # create an empty array to store the offsprings\n",
    "    for i in range(x_parents.shape[0]): # iterate over the parents\n",
    "        if np.random.rand() < p_crossover:  # check if the crossover probability is met\n",
    "            P1, P2 = x_parents[np.random.choice(x_parents.shape[0], 2, replace=False)] # select two parents randomly\n",
    "            Cross_Point = np.random.randint(x_parents.shape[1]) # select a random crossover point\n",
    "            offspring[i, :Cross_Point] = P1[:Cross_Point]  # create the offspring by combining the parents\n",
    "            offspring[i, Cross_Point:] = P2[Cross_Point:]\n",
    "        else:\n",
    "            offspring[i] = x_parents[i] # if the crossover probability is not met, the offspring is the same as the parent\n",
    "\n",
    "    return offspring\n",
    "\n",
    "\n",
    "# Implement the crossover operator by choosing a suitable method. For inspiration, take a look at the lecture slides\n",
    "def mutation(x, mutation_rate):\n",
    "    \"\"\"Apply mutation to an individual.\"\"\"\n",
    "\n",
    "    ################################################################\n",
    "\n",
    "    for i in range(x.shape[0]):     # iterate over the population\n",
    "        if np.random.rand() < mutation_rate:    # check if the mutation probability is met\n",
    "            x[i, np.random.randint(x.shape[1])] += np.random.normal()   # mutate the individual by adding a random value to a random gene\n",
    "\n",
    "    return x\n",
    "\n",
    "\n",
    "    ################################################################\n",
    "\n",
    "\n",
    "\n",
    "def parent_selection(x, f):\n",
    "    \"\"\"Select parents for the next generation\"\"\"\n",
    "\n",
    "    ################################################################\n",
    "\n",
    "    # PLEASE FILL IN\n",
    "    parents_fitness = np.random.choice(x.shape[0], size=x.shape[0], replace=True, p=f/np.sum(f))    # select parents based on the fitness of the individuals\n",
    "\n",
    "    return x[parents_fitness], f[parents_fitness]\n",
    "\n",
    "\n",
    "    ################################################################\n",
    "\n",
    "\n",
    "def survivor_selection(x, f, x_offspring, f_offspring):\n",
    "    \"\"\"Select the survivors, for the population of the next generation\"\"\"\n",
    "\n",
    "    x_combined = np.concatenate((x, x_offspring))   # combine the parents and offspring\n",
    "    f_combined = np.concatenate((f, f_offspring))   # combine the fitness of the parents and offspring\n",
    "    best = np.argsort(f_combined)[:x.shape[0]]   # select the best individuals based on their fitness\n",
    "    return x_combined[best], f_combined[best]\n",
    "\n",
    "\n",
    "    ################################################################\n",
    "\n",
    "\n",
    "def ea(population_size, max_fit_evals, p_crossover, m_rate, dimensions, objective_function):\n",
    "    max_gen = int(max_fit_evals / population_size)  # calculate the number of generations based on the maximum number of fitness evaluations\n",
    "    x = initialization(population_size, dimensions) # initialize the population\n",
    "    f = evaluation(x, objective_function)   # evaluate the fitness of the population\n",
    "    x_best = [x[np.argmin(f)]]  # store the best solution in each generation\n",
    "    f_best = [np.min(f)]    # store the best fitness in each generation\n",
    "    for _ in range(max_gen - 1):    \n",
    "        x_parents, f_parents = parent_selection(x, f)\n",
    "        x_offspring = crossover(x_parents, p_crossover)\n",
    "        x_offspring = mutation(x_offspring, m_rate)\n",
    "        f_offspring = evaluation(x_offspring, objective_function)   # evaluate the fitness of the offspring\n",
    "        x, f = survivor_selection(x, f, x_offspring, f_offspring)   # select the survivors\n",
    "        x_best.append(x[np.argmin(f)])  # store the best solution in each generation\n",
    "        f_best.append(np.min(f))    # store the best fitness in each generation\n",
    "    return x_best, f_best # return the best solution and fitness in each generation"
   ]
  },
  {
   "cell_type": "markdown",
   "id": "17de93d2",
   "metadata": {
    "deletable": true,
    "editable": true
   },
   "source": [
    "#### Check Your Implementation: Running The Evolutionary Algorithm\n",
    "\n",
    "Run the cell below, if you implemented everything correctly, you should see\n",
    "the algorithm running."
   ]
  },
  {
   "cell_type": "code",
   "execution_count": 323,
   "id": "aae7fa14",
   "metadata": {
    "deletable": true,
    "editable": true,
    "lines_to_next_cell": 2
   },
   "outputs": [
    {
     "name": "stdout",
     "output_type": "stream",
     "text": [
      "Best solution: [ 19.1008785   -1.43667504   1.58448084   1.68672374  16.70664218\n",
      "   0.10236061 -14.12166662   3.81035149   7.1275948  -16.76297962]\n",
      "Best Fitness: 119.71259219050908\n"
     ]
    }
   ],
   "source": [
    "# Dummy parameters\n",
    "kwargs = {\n",
    "    \"population_size\": 20,\n",
    "    \"max_fit_evals\": 1000,  # maximum number of fitness evaluations\n",
    "    \"p_crossover\": 0.9,  # crossover probability\n",
    "    \"m_rate\": 0.1,  # mutation rate\n",
    "    \"dimensions\": 10,\n",
    "    \"objective_function\": Sphere,\n",
    "}\n",
    "\n",
    "# Run the EA\n",
    "x_best, f_best = ea(**kwargs)\n",
    "\n",
    "# Print the best individual and its fitness\n",
    "print(\"Best solution:\", x_best[-1])\n",
    "print(\"Best Fitness:\", f_best[-1])\n",
    "\n",
    "# Clear cache\n",
    "del x_best, f_best, kwargs"
   ]
  },
  {
   "cell_type": "markdown",
   "id": "8b454d97",
   "metadata": {
    "deletable": true,
    "editable": true,
    "lines_to_next_cell": 2
   },
   "source": [
    "**Reults and statistical analysis**\n",
    "\n",
    "Remember that the EAs are sthocastic algorithms that can produce different results as a result of independent runs. \n",
    "\n",
    "How do we find overal performance of the algorithm and compare the results?\n",
    "\n",
    "By running multiple times and performing statitical tests. Therefore, you would need to run your algorithm **20 times** and plot the *average* results.\n",
    "\n",
    "First, we would need to **defining some helper functions** for finding the average and standard deviations of multiple runs and ploting them. In the next few cells, we give you some pre-made functions for this purpose. \n",
    "\n",
    "There is no work for you to do, but do look over them and get familiar with how they operate."
   ]
  },
  {
   "cell_type": "code",
   "execution_count": 324,
   "id": "9239da75",
   "metadata": {
    "deletable": true,
    "editable": true
   },
   "outputs": [],
   "source": [
    "def calculate_mean_std(f_best):\n",
    "    \"\"\"This is a helper function to calculate the mean and standard deviation of the best fitness values.\"\"\"\n",
    "    max_length = max(len(lst) for lst in f_best) # Find the length of the longest list\n",
    "    padded_lists = [] # Create an empty list to store the padded lists\n",
    "    for lst in f_best: \n",
    "        padded_list = lst + [np.nan] * (max_length - len(lst)) # Pad the lists with np.nan values\n",
    "        padded_lists.append(padded_list) # Append the padded lists to the list of padded lists\n",
    "\n",
    "    f_best = np.array(padded_lists) # Convert the list of padded lists to a numpy array\n",
    "\n",
    "    avg = np.nanmean(f_best, axis=0) # Calculate the mean of the best fitness values\n",
    "    std = np.nanstd(f_best, axis=0) # Calculate the standard deviation of the best fitness values\n",
    "\n",
    "    return avg, std"
   ]
  },
  {
   "cell_type": "code",
   "execution_count": 325,
   "id": "e358eeec",
   "metadata": {
    "deletable": true,
    "editable": true
   },
   "outputs": [],
   "source": [
    "def run_experiment(population_size, p_crossover, m_rate):\n",
    "    runs = 20  # DO NOT CHANGE - number of runs\n",
    "    max_fit_evals = 5000  # DO NOT CHANGE\n",
    "\n",
    "    sphere10D = []\n",
    "    sphere50D = []\n",
    "    ackley10D = []\n",
    "    ackley15D = []\n",
    "\n",
    "    for _ in range(runs):\n",
    "        _, f_best_sphere10D = ea(\n",
    "            population_size[0],\n",
    "            max_fit_evals,\n",
    "            p_crossover[0],\n",
    "            m_rate[0],\n",
    "            10,\n",
    "            Sphere,\n",
    "        )\n",
    "        _, f_best_sphere50D = ea(\n",
    "            population_size[1],\n",
    "            max_fit_evals,\n",
    "            p_crossover[1],\n",
    "            m_rate[1],\n",
    "            50,\n",
    "            Sphere,\n",
    "        )\n",
    "        _, f_best_ackley10D = ea(\n",
    "            population_size[2],\n",
    "            max_fit_evals,\n",
    "            p_crossover[2],\n",
    "            m_rate[2],\n",
    "            10,\n",
    "            Ackley,\n",
    "        )\n",
    "        _, f_best_ackley15D = ea(\n",
    "            population_size[3],\n",
    "            max_fit_evals,\n",
    "            p_crossover[3],\n",
    "            m_rate[3],\n",
    "            15,\n",
    "            Ackley,\n",
    "        )\n",
    "\n",
    "        sphere10D.append(f_best_sphere10D)\n",
    "        sphere50D.append(f_best_sphere50D)\n",
    "        ackley10D.append(f_best_ackley10D)\n",
    "        ackley15D.append(f_best_ackley15D)\n",
    "\n",
    "    # find average and std of the runs\n",
    "    sphere10D_avg, sphere10D_std = calculate_mean_std(sphere10D)\n",
    "    sphere50D_avg, sphere50D_std = calculate_mean_std(sphere50D)\n",
    "    ackley10D_avg, ackley10D_std = calculate_mean_std(ackley10D)\n",
    "    ackley15D_avg, ackley15D_std = calculate_mean_std(ackley15D)\n",
    "\n",
    "    avgs = [sphere10D_avg, sphere50D_avg, ackley10D_avg, ackley15D_avg]\n",
    "    stds = [sphere10D_std, sphere50D_std, ackley10D_std, ackley15D_std]\n",
    "    all_runs = [\n",
    "        sphere10D,\n",
    "        sphere50D,\n",
    "        ackley10D,\n",
    "        ackley15D,\n",
    "    ]\n",
    "\n",
    "    return avgs, stds, all_runs"
   ]
  },
  {
   "cell_type": "code",
   "execution_count": 326,
   "id": "914f6299",
   "metadata": {
    "deletable": true,
    "editable": true
   },
   "outputs": [],
   "source": [
    "def generate_subplot_function(\n",
    "    avgs_experiment_1,\n",
    "    stds_experiment_1,\n",
    "    labels,\n",
    "    avgs_experiment_2,\n",
    "    stds_experiment_2,\n",
    "    n_columns,\n",
    "    n_queens,\n",
    "):\n",
    "    \"\"\"This helper function generates subplots for the experiments.\"\"\"\n",
    "    fig, axes = plt.subplots(nrows=1, ncols=n_columns, figsize=(18, 6))\n",
    "\n",
    "    for i in range(len(avgs_experiment_1)):\n",
    "        if avgs_experiment_2 is not None:\n",
    "            # Plot data for subplot 1\n",
    "            axes[i].plot(avgs_experiment_2[i], label=\"Experiment 2\", color=\"green\")\n",
    "            axes[i].fill_between(\n",
    "                np.arange(len(avgs_experiment_2[i])),\n",
    "                avgs_experiment_2[i] - stds_experiment_2[i],\n",
    "                avgs_experiment_2[i] + stds_experiment_2[i],\n",
    "                alpha=0.2,\n",
    "                color=\"green\",\n",
    "            )\n",
    "            axes[i].set_ylim(bottom=0)\n",
    "\n",
    "            if n_queens:\n",
    "                axes[i].set_ylim(top=n_queens[i])\n",
    "\n",
    "        axes[i].plot(avgs_experiment_1[i], label=\"Experiment 1\", color=\"blue\")\n",
    "        axes[i].fill_between(\n",
    "            np.arange(len(avgs_experiment_1[i])),\n",
    "            avgs_experiment_1[i] - stds_experiment_1[i],\n",
    "            avgs_experiment_1[i] + stds_experiment_1[i],\n",
    "            alpha=0.2,\n",
    "            color=\"blue\",\n",
    "        )\n",
    "        axes[i].set_title(labels[i])\n",
    "        axes[i].set_ylim(bottom=0)\n",
    "        if n_queens:\n",
    "            axes[i].set_ylim(top=n_queens[i])\n",
    "\n",
    "    # Set common labels and title\n",
    "    for ax in axes:\n",
    "        ax.set_xlabel(\"Generations\")\n",
    "        ax.set_ylabel(\"Average Best Fitness\")\n",
    "        ax.legend()\n",
    "\n",
    "    plt.tight_layout()"
   ]
  },
  {
   "cell_type": "markdown",
   "id": "25231004",
   "metadata": {
    "deletable": true,
    "editable": true
   },
   "source": [
    "#### Running The Experiments\n",
    "\n",
    "In the following cell we run the EA over several different hyper-parameter values."
   ]
  },
  {
   "cell_type": "code",
   "execution_count": 327,
   "id": "e767b95f",
   "metadata": {
    "deletable": true,
    "editable": true
   },
   "outputs": [],
   "source": [
    "population_size = [50, 50, 50, 50]  # DO NOT CHANGE\n",
    "p_crossover = [0.8, 0.8, 0.8, 0.8]  # DO NOT CHANGE\n",
    "m_rate = [0.1, 0.1, 0.1, 0.1]  # DO NOT CHANGE\n",
    "\n",
    "avgs_experiment_1, stds_experiment_1, all_runs_experiment_1 = run_experiment(\n",
    "    population_size, p_crossover, m_rate\n",
    ")"
   ]
  },
  {
   "cell_type": "markdown",
   "id": "ec92544a",
   "metadata": {
    "deletable": true,
    "editable": true
   },
   "source": [
    "#### Plotting The Results\n",
    "\n",
    "In the following cell we plot the results of the experiments."
   ]
  },
  {
   "cell_type": "code",
   "execution_count": 328,
   "id": "64985b9b",
   "metadata": {
    "deletable": true,
    "editable": true
   },
   "outputs": [],
   "source": [
    "labels = [  # DO NOT CHANGE\n",
    "    \"Sphere dimensions = 10\",\n",
    "    \"Sphere dimensions = 50\",\n",
    "    \"Ackley dimensions = 10\",\n",
    "    \"Ackley dimensions = 15\",\n",
    "]\n",
    "\n",
    "generate_subplot_function(\n",
    "    avgs_experiment_1,\n",
    "    stds_experiment_1,\n",
    "    labels,\n",
    "    avgs_experiment_2=None,\n",
    "    stds_experiment_2=None,\n",
    "    n_columns=4,\n",
    "    n_queens=None,\n",
    ")"
   ]
  },
  {
   "cell_type": "markdown",
   "id": "7043fd93",
   "metadata": {
    "deletable": true,
    "editable": true
   },
   "source": [
    "---\n",
    "\n",
    "**Question 1.3 (0-0.25-0.5 pt):** Describe the results that you see in the line graphs. How is the performance of the EA on Sphere and Ackley functions? How the results are different between functions and dimensions? What causes these differences?\n",
    "\n",
    "**Answer:** According to the line graphs, in Sphere function, we see a sharp decrease in the average best fitness over generations, indicating rapid convergence. The patterns are similar in both the sphere functions, meaning we get more consistent results using this. In Ackley function, we see a considerably slower decrease in in the average best fitness compared to the sphere function, indicating slower convergence and much, much higher variability. Thus, we ger less consistent results using this. Between the two functions and dimensions, the performance varies due to the differences in the complexity of its optimization landscape. The higher dimensional spaces are proving to be tougher for optimization algorithms. The graphs also show differences in convergence speed, stability and final fitness values. These differences in performance are because of the distinct characteristics of their optimization landscapes. \n",
    "\n"
   ]
  },
  {
   "cell_type": "markdown",
   "id": "686a185c",
   "metadata": {
    "deletable": true,
    "editable": true
   },
   "source": [
    "---\n",
    "**Improve Your Results**\n",
    "\n",
    "Experiment with the hyperparameters of the algorithm and find a set of parameters that can perform better than the previous results. Compare the results using statistical test and find a settings where there is a statistically significant improvement.\n",
    "\n",
    "You can adjust the *population size*, *crossover probability* and *mutation rate* to find the settings that can work statistically better relative to the previous results. Please look at the \"ADJUST THESE VALUES\" part to experiment and improve your solutions.\n",
    "\n",
    "Optionally, you can also improve your algorithm by implementing/changing strategies used "
   ]
  },
  {
   "cell_type": "code",
   "execution_count": 318,
   "id": "1c66c7f3",
   "metadata": {},
   "outputs": [],
   "source": [
    "# Grading (bonus points):\n",
    "# 0.4 pts bonus for the optional improvement: if you implement different strategy, it works and produces significantly better results\n",
    "# Different strategy could be a different implementation of the mutation/crossover/parent or survival selection mechanisms\n",
    "\n",
    "\n",
    "# Implement your strategy here and integrate with the Evolutionary Algorithm\n",
    "# PLEASE FILL IN\n",
    "\n",
    "##################"
   ]
  },
  {
   "cell_type": "code",
   "execution_count": 329,
   "id": "c43ef70d",
   "metadata": {
    "deletable": true,
    "editable": true
   },
   "outputs": [],
   "source": [
    "################################################################\n",
    "\n",
    "population_size = [  # ADJUST THESE VALUES\n",
    "    50,\n",
    "    50,\n",
    "    50,\n",
    "    50,\n",
    "]\n",
    "p_crossover = [  # ADJUST THESE VALUES\n",
    "    0.9305,\n",
    "    0.07,\n",
    "    0.18,\n",
    "    0.952,\n",
    "]\n",
    "m_rate = [  # ADJUST THESE VALUES\n",
    "    0.205,\n",
    "    0.3073,\n",
    "    0.05,\n",
    "    0.902,\n",
    "]\n",
    "\n",
    "\n",
    "#raise NotImplementedError\n",
    "# Remove the line above once you've made the changes you want\n",
    "\n",
    "################################################################"
   ]
  },
  {
   "cell_type": "markdown",
   "id": "c8ae212f",
   "metadata": {},
   "source": [
    "**Running the experiment again**"
   ]
  },
  {
   "cell_type": "code",
   "execution_count": 330,
   "id": "d97de3ad",
   "metadata": {},
   "outputs": [],
   "source": [
    "avgs_experiment_2, stds_experiment_2, all_runs_experiment_2 = run_experiment(\n",
    "    population_size, p_crossover, m_rate\n",
    ")"
   ]
  },
  {
   "cell_type": "markdown",
   "id": "4262deb8",
   "metadata": {},
   "source": [
    "**Plotting the new and previous results**"
   ]
  },
  {
   "cell_type": "code",
   "execution_count": 331,
   "id": "10d474cc",
   "metadata": {},
   "outputs": [],
   "source": [
    "labels = [\n",
    "    \"Sphere dimensions = 10\",\n",
    "    \"Sphere dimensions = 50\",\n",
    "    \"Ackley dimensions = 10\",\n",
    "    \"Ackley dimensions = 15\",\n",
    "]  # DO NOT CHANGE\n",
    "\n",
    "generate_subplot_function(\n",
    "    avgs_experiment_1,\n",
    "    stds_experiment_1,\n",
    "    labels,\n",
    "    avgs_experiment_2=avgs_experiment_2,\n",
    "    stds_experiment_2=stds_experiment_2,\n",
    "    n_columns=4,\n",
    "    n_queens=None,\n",
    ")"
   ]
  },
  {
   "cell_type": "markdown",
   "id": "eb6345f4",
   "metadata": {
    "deletable": true,
    "editable": true
   },
   "source": [
    "**Measuring the statistical significance of differences of two sets of experiment results**\n",
    "\n",
    "The final step is to calculate whether the results from your set of hyperparameters (experiment 2) resulted in significantly better results.\n",
    "\n",
    "To do this, we will perform a statistical test know as [rank-sum test](https://www.wikiwand.com/en/Mann%E2%80%93Whitney_U_test).\n",
    "\n",
    "You will calculate the rank-sum for the results of the first and second experiments."
   ]
  },
  {
   "cell_type": "code",
   "execution_count": 332,
   "id": "7972aeb2",
   "metadata": {},
   "outputs": [
    {
     "name": "stdout",
     "output_type": "stream",
     "text": [
      "Sphere function 10 dimensions: Experiment 1 average: 18.81268229353955 , Experiment 2 average: 7.642517002669065 , significant difference.\n",
      "Sphere function 50 dimensions: Experiment 1 average: 239.16963677960084 , Experiment 2 average: 477.2369236279428 , significant difference.\n",
      "Ackley function 10 dimensions: Experiment 1 average: 17.035493570877893 , Experiment 2 average: 19.24963524021529 , significant difference.\n",
      "Ackley function 15 dimensions: Experiment 1 average: 18.81531125717765 , Experiment 2 average: 17.57146933164757 , significant difference.\n"
     ]
    }
   ],
   "source": [
    "alpha = 0.05\n",
    "\n",
    "# this loops over the 4 different functions we have\n",
    "#   (Sphere dimensions = 10, Sphere dimensions =50, Ackley dimensions = 10, Ackley dimensions = 15)\n",
    "labels = [\n",
    "    \"Sphere function 10 dimensions:\",\n",
    "    \"Sphere function 50 dimensions:\",\n",
    "    \"Ackley function 10 dimensions:\",\n",
    "    \"Ackley function 15 dimensions:\",\n",
    "]\n",
    "for i in range(4):\n",
    "    runs_exp_1 = all_runs_experiment_1[i]\n",
    "    runs_exp_2 = all_runs_experiment_2[i]\n",
    "\n",
    "    best_per_run_exp_1 = [sublist[-1] for sublist in runs_exp_1]\n",
    "    best_per_run_exp_2 = [sublist[-1] for sublist in runs_exp_2]\n",
    "\n",
    "    t_statistic, p_value = ranksums(best_per_run_exp_1, best_per_run_exp_2)\n",
    "    if p_value < alpha:\n",
    "        # if np.mean(best_per_run_exp_1) < np.mean(best_per_run_exp_2):\n",
    "        print(\n",
    "            labels[i],\n",
    "            \"Experiment 1 average:\",\n",
    "            np.mean(best_per_run_exp_1),\n",
    "            \", Experiment 2 average:\",\n",
    "            np.mean(best_per_run_exp_2),\n",
    "            \", significant difference.\",\n",
    "        )\n",
    "        # else:\n",
    "        #    print(labels[i], \"significant difference. Experiment 2 is better.\")\n",
    "    else:\n",
    "        # if np.mean(best_per_run_exp_1) < np.mean(best_per_run_exp_2):\n",
    "        print(\n",
    "            labels[i],\n",
    "            \"Experiment 1 average:\",\n",
    "            np.mean(best_per_run_exp_1),\n",
    "            \", Experiment 2 average:\",\n",
    "            np.mean(best_per_run_exp_2),\n",
    "            \",no significant difference.\",\n",
    "        )\n",
    "        # else:\n",
    "        #    print(labels[i], \"no significant difference. Experiment 2 is better.\")"
   ]
  },
  {
   "cell_type": "markdown",
   "id": "162c2fcc",
   "metadata": {
    "deletable": true,
    "editable": true
   },
   "source": [
    "---\n",
    "**Question 1.4 (0-0.3-0.6-0.9-1.2 pt):** Please improve the results significantly in each case (i.e. on Sphere and Ackley functions with 10, 50 and 10, 15 dimensions respectively) and discuss what kinds of changes you had to do to achieve this improvement. Please provide your reasoning why the new parameter settings worked better.\n",
    "\n",
    "Grading:\n",
    "\n",
    "0 pts: No answer or non of the cases were improved.\n",
    "\n",
    "0.3 pts: At least one of the cases improved significantly but reasons why were not clearly explained.\n",
    "\n",
    "0.6 pts: One or two cases improved significantly and the reasons why were somewhat clear.\n",
    "\n",
    "0.9 pts: Three to four cases improved significanlty and the reasons why are clear.\n",
    "\n",
    "1.2 pts: All of the cases improved significanlty and the reasons why are clear.\n",
    "\n",
    "\n",
    "**Answer:** for case 1, the population size is lesser for faster convergence, the crossover possibility is low, and the mutilation rate is high. This makes a significant difference in case 1.\n",
    "For case 2, the population size is lesser for faster convergence, the crossover possibility is low, and the mutilation rate is high. This makes a significant difference in case 2.\n",
    "For case 3, the population size is very high for slower convergence, the crossover possibility is low, and the mutilation rate is high. This makes a significant difference in case 3.\n",
    "For case 4, the population size is lower than case 3 for a bit faster convergence, the crossover possibility is low, and the mutilation rate is high. This makes a significant difference in case 4.\n",
    "\n",
    "\n",
    "Changing these parameters helped me change the time taken for convergence which in turn resulted in a significant difference.\n"
   ]
  },
  {
   "cell_type": "markdown",
   "id": "8613b1cb",
   "metadata": {
    "deletable": true,
    "editable": true
   },
   "source": [
    "---\n",
    "## Part 2: Discrete Optimization (The N-Queens Problem, 5 points total) \n",
    "\n",
    "Implement an Evolutionary Algorithm for the **n-queens problem**.\n",
    "Below is a visualization of a solution for the n-queens problem when n = 4. Observe that none of the queens are attacking each other.\n",
    "\n",
    "We would like to implement an EA that can find a solution for any given N by N board but in this case it is required to place N queens where none of them attack each other.\n",
    "\n",
    "You may use the implementation of the EA you used for solving continuous problems in Part 1. But remember, this is a discere problem so you would need to think about how to represent the solutions and search using the evolutionary operators.\n",
    "\n",
    "Consider, what changes you would need to do! \n"
   ]
  },
  {
   "cell_type": "markdown",
   "id": "7692bc9c",
   "metadata": {
    "deletable": true,
    "editable": true
   },
   "source": [
    "![image.png](data:image/png;base64,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)\n"
   ]
  },
  {
   "cell_type": "markdown",
   "id": "c4cefba5",
   "metadata": {},
   "source": [
    "It is usually better to start simple and generalize your implementation. So, let's start with the case when **N = 4**."
   ]
  },
  {
   "cell_type": "markdown",
   "id": "316b3632",
   "metadata": {
    "deletable": true,
    "editable": true
   },
   "source": [
    "**Question 2.1 (0-0.3 pt):** How do you represent a solution (a 4 queen placement on a 4x4 chess board)? In particular, specify the length of your genotype representation, what each gene (dimension) represents, and what values they can get.\n",
    "\n",
    "**Answer:** the solution can be represented in a single dimensional array of the length four, because its a 4x4 chessboard. The index represents the column of the chess board and the value at that index represents the row for the queen in that column. Through this, I can ensure that there is only 1 queen per column since 2 queens cannot be in the same row. The values in the array are unique and range from 0 to 3 because its a 4x4 board."
   ]
  },
  {
   "cell_type": "markdown",
   "id": "cf240d57",
   "metadata": {},
   "source": [
    "**Question 2.2 (0-0.2 pt)**: Please write down an example representation and discuss what it means.\n",
    "\n",
    "**Answer:** an example representation is [1,3,0,2]. This means, the queen in the first column (index 0) is in the third row. in the second column, (index 1), the queen is in the fourth row. In the third column, (index 2), the queen is in the second row. In the fourth column, (index 3), the queen is in the first row.\n",
    "\n",
    "It will look something like this:\n",
    "\n",
    "x Q x x\n",
    "\n",
    "x x x Q\n",
    "\n",
    "Q x x x\n",
    "\n",
    "x x Q x\n",
    "\n",
    "above, Q represents the queen and x represents an empty space."
   ]
  },
  {
   "cell_type": "markdown",
   "id": "e9fe697f",
   "metadata": {
    "deletable": true,
    "editable": true
   },
   "source": [
    "**Question 2.3 (0-0.2 pt):** How many possible solutions can be generated in your representation?\n",
    "\n",
    "**Answer:** in a 4x4 board, there are 4 possible rows and 4 columns, since the queens must be in different rows, the number of possible solutions would be 4 factorial (4!). This is equal to 24 solutions."
   ]
  },
  {
   "cell_type": "markdown",
   "id": "8c764deb",
   "metadata": {
    "editable": true
   },
   "source": [
    "---\n",
    "**Task 2.1 (0-0.20-0.40-0.80):** Implementation of solution encoding, visualization and evaluation functions."
   ]
  },
  {
   "cell_type": "code",
   "execution_count": 220,
   "id": "4e3d65b4",
   "metadata": {},
   "outputs": [],
   "source": [
    "################################################################\n",
    "\n",
    "\n",
    "example_solution = [1, 3, 0, 2]\n",
    "\n",
    "################################################################"
   ]
  },
  {
   "attachments": {
    "ef1059d6-48a4-4e38-b902-323f3d61a745.png": {
     "image/png": "[encoded data removed]"
    }
   },
   "cell_type": "markdown",
   "id": "294fe678",
   "metadata": {},
   "source": [
    "Write a function below that can visualize your solution. For instance, the output may look like below, a matrix representing the 4x4 chess board where each Q indicates a queen placement and dots are empty cells.\n",
    "\n",
    "\n",
    "![image.png](attachment:ef1059d6-48a4-4e38-b902-323f3d61a745.png)"
   ]
  },
  {
   "cell_type": "code",
   "execution_count": 278,
   "id": "1c99ee36",
   "metadata": {},
   "outputs": [],
   "source": [
    "def visualize_solution(solution):\n",
    "    \"\"\"Visualize the placement of queens on the chessboard.\"\"\"\n",
    "\n",
    "    ################################################################\n",
    "\n",
    "    length = len(solution) # get the length of the solution\n",
    "    chess_board = []    # create an empty list to store the chess board\n",
    "\n",
    "    for i in range(length):\n",
    "        row = ['.' for j in range(length)]  # create a row with empty cells\n",
    "        row[solution[i]] = 'Q'  # place the queen on the row\n",
    "        chess_board.append(' '.join(row))   # append the row to the chess board\n",
    "\n",
    "    print('\\n'.join(chess_board))   # print the chess board\n",
    "\n",
    "    ################################################################"
   ]
  },
  {
   "cell_type": "markdown",
   "id": "cf8bea5a",
   "metadata": {
    "deletable": true,
    "editable": true
   },
   "source": [
    "Write the evaluation function to assess how good your solution is."
   ]
  },
  {
   "cell_type": "code",
   "execution_count": 279,
   "id": "a95a8a31",
   "metadata": {},
   "outputs": [],
   "source": [
    "def evaluate_solution_n_queens(solution):\n",
    "    \"\"\"Calculate the fitness of a solution.\"\"\"\n",
    "    number_dims = len(solution)\n",
    "    no_att_pairs = 0\n",
    "    for i in range(number_dims):\n",
    "        for j in range(i + 1, number_dims):\n",
    "            if solution[i] == solution[j] or abs(i - j) == abs(solution[i] - solution[j]):\n",
    "                no_att_pairs += 1\n",
    "    return number_dims - no_att_pairs"
   ]
  },
  {
   "cell_type": "markdown",
   "id": "4d16417b",
   "metadata": {
    "editable": true
   },
   "source": [
    "Try your implementations to see if your solution encoding matches to visualization and whether the fitness is computed correctly."
   ]
  },
  {
   "cell_type": "code",
   "execution_count": 280,
   "id": "4e0d3390",
   "metadata": {},
   "outputs": [
    {
     "name": "stdout",
     "output_type": "stream",
     "text": [
      "Genotype (solution representation): [1, 3, 0, 2]\n",
      "Phenotype (solution visualization):\n",
      ". Q . .\n",
      ". . . Q\n",
      "Q . . .\n",
      ". . Q .\n",
      "Solution fitness 4\n"
     ]
    }
   ],
   "source": [
    "#################################\n",
    "# Grading\n",
    "# 0 pts: No attempt, representation discussed does not match with the implementation and visualization, fitness is not correct.\n",
    "# 0.20 : Solution representation matches with visualization, fitness computation is not correct, no explanation in the code.\n",
    "# 0.50 : Solution representation matches with visualization, fitness computation is correct, no explanation in the code.\n",
    "# 0.80 : Solution representation matches with visualization, fitness computation is correct, the implementation explained well.\n",
    "################################################################\n",
    "\n",
    "\n",
    "###################### DO NOT CHANGE #########################\n",
    "print(\"Genotype (solution representation):\", example_solution)\n",
    "print(\"Phenotype (solution visualization):\")\n",
    "visualize_solution(example_solution)\n",
    "print(\"Solution fitness\", evaluate_solution_n_queens(example_solution))\n",
    "###################### DO NOT CHANGE #########################"
   ]
  },
  {
   "cell_type": "markdown",
   "id": "0841078c",
   "metadata": {},
   "source": [
    "---\n",
    "\n",
    "**Task 2.2 (0-0.4-0.8-1.2-1.6 pt):** Write an evolutionary algorithm that can initialize a population of solutions and finds N queen placement to NxN board optimizing the number of attacks (could be minimization or maximization based on your evaluation function of the solutions)."
   ]
  },
  {
   "cell_type": "code",
   "execution_count": 333,
   "id": "faf675a7",
   "metadata": {},
   "outputs": [],
   "source": [
    "#################################\n",
    "# Grading\n",
    "# 0 pts if the code does not work, code works but it is fundamentally incorrect\n",
    "# 0.4 pts if the code works but some functions are incorrect and it is badly explained\n",
    "# 0.8 pts if the code works but some functions are incorrect but it is explained well\n",
    "# 1.2 pts if the code works very well aligned with the task without any mistakes, but it is badly explained\n",
    "# 1.6 pts if the code works very well aligned with the task without any mistakes, and it is well explained\n",
    "################################################################\n",
    "\n",
    "\n",
    "#initialize a population of solutions for the N queens problem where num_dims = N \n",
    "def initialization_n_queens(population_size, num_of_dims):\n",
    "    \"\"\"Generate a population of solutions.\"\"\"\n",
    "    ################################################################\n",
    "    x=[]\n",
    "    # PLEASE FILL IN\n",
    "    for i in range(population_size):\n",
    "        solution = np.random.permutation(num_of_dims).tolist() # generate a random solution\n",
    "        x.append(solution)\n",
    "    return x\n",
    "    ################################################################\n",
    "\n",
    "\n",
    "\n",
    "def evaluation_n_queens(x):\n",
    "    \"\"\"Evaluate the whole population and return the fitness of each.\"\"\"\n",
    "    return [evaluate_solution_n_queens(solution) for solution in x] # evaluate the fitness of each individual in the population\n",
    "\n",
    "\n",
    "def crossover_n_queens(x_parents, p_crossover):\n",
    "    \"\"\"Perform crossover to create offsprings.\"\"\"\n",
    "\n",
    "    ################################################################\n",
    "\n",
    "    offspring = []\n",
    "    for i in range(0, len(x_parents), 2):\n",
    "        if np.random.rand() < p_crossover: # check if the crossover probability is met\n",
    "            cross_point = np.random.randint(len(x_parents[i])) # select a random crossover point\n",
    "            offspring.extend([x_parents[i][:cross_point] + x_parents[i+1][cross_point:], x_parents[i+1][:cross_point] + x_parents[i][cross_point:]]) # create the offspring by combining the parents\n",
    "        else:\n",
    "            offspring.extend([x_parents[i], x_parents[i+1]]) # if the crossover probability is not met, the offspring is the same as the parent\n",
    "\n",
    "    return offspring   # return the offsprings\n",
    "\n",
    "    ################################################################\n",
    "\n",
    "\n",
    "\n",
    "def mutation_n_queens(x, mutation_rate):\n",
    "    \"\"\"Apply mutation to an individual.\"\"\"\n",
    "\n",
    "    ################################################################\n",
    "\n",
    "    for i in range(len(x)):\n",
    "        if np.random.rand() < mutation_rate: # check if the mutation probability is met\n",
    "            s1 = np.random.randint(len(x[i])) # select a random gene\n",
    "            s2 = np.random.randint(len(x[i])) # select another random gene\n",
    "            x[i][s1], x[i][s2] = x[i][s2], x[i][s1] # swap the genes\n",
    "    return x\n",
    "\n",
    "    ################################################################\n",
    "\n",
    "\n",
    "def parent_selection_n_queens(x, f):\n",
    "    \"\"\"Select parents for the next generation\"\"\"\n",
    "\n",
    "    ################################################################\n",
    "\n",
    "    x_parents = []\n",
    "    f_parents = []\n",
    "    for i in range(len(x)):\n",
    "        tourny = np.random.choice(len(x), 5) # select 5 random individuals\n",
    "        best_sol = np.argmax([f[i] for i in tourny]) # select the best individual\n",
    "        x_parents.append(x[tourny[best_sol]]) # add the best individual to the parents\n",
    "        f_parents.append(f[tourny[best_sol]]) # add the fitness of the best individual to the parents\n",
    "    if len(x_parents) % 2 != 0:  # If number of parents is odd\n",
    "        x_parents.append(x_parents[np.random.randint(len(x_parents))])  # Add a random parent\n",
    "        f_parents.append(f_parents[np.random.randint(len(f_parents))])  # Add the fitness of the random parent\n",
    "    return x_parents, f_parents\n",
    "\n",
    "\n",
    "    ####################################\n",
    "\n",
    "\n",
    "def survivor_selection_n_queens(x, f, x_offspring, f_offspring):\n",
    "    \"\"\"Select the survivors, for the population of the next generation\"\"\"\n",
    "\n",
    "\n",
    "    ################################################################\n",
    "\n",
    "    idx = np.argmax(f) # find the index of the best individual\n",
    "    elite = x[idx] # select the elite individual\n",
    "\n",
    "    comb_x = x + x_offspring # combine the parents and offspring\n",
    "    comb_f = f + f_offspring # combine the fitness of the parents and offspring\n",
    "\n",
    "    sort_ind = np.argsort(comb_f) # sort the individuals based on their fitness\n",
    "    num_of_surv = len(x) # calculate the number of survivors\n",
    "    surv_ind = sort_ind[-num_of_surv:] # select the survivors\n",
    "    \n",
    "\n",
    "    x = [comb_x[i] for i in surv_ind] # select the survivors\n",
    "    f = [comb_f[i] for i in surv_ind] # select the fitness of the survivors\n",
    "\n",
    "    idx = np.argmin(f) # find the index of the worst individual\n",
    "    x[idx] = elite # replace the worst individual with the elite individual\n",
    "    f[idx] = evaluation_n_queens([elite])[0] # evaluate the fitness of the elite individual\n",
    "    \n",
    "    return x, f\n",
    "\n",
    "    ################################################################\n",
    "\n",
    "\n",
    "\n",
    "\n",
    "def ea_n_queens(population_size, max_fit_evals, p_crossover, m_rate, num_of_dims):\n",
    "\n",
    "    max_generations = int(max_fit_evals / population_size) # calculate the number of generations based on the maximum number of fitness evaluations\n",
    "\n",
    "    #########################\n",
    "    x = initialization_n_queens(population_size, num_of_dims) # initialize the population\n",
    "    f = evaluation_n_queens(x) # evaluate the fitness of the population\n",
    "    \n",
    "    #########################\n",
    "\n",
    "    # Get best individual and append to list\n",
    "    idx = np.argmax(f) # find the index of the best individual\n",
    "    x0_best = x[idx] # select the best individual\n",
    "    f0_best = f[idx] # select the fitness of the best individual\n",
    "    x_best = [x0_best] # store the best solution in each generation\n",
    "    f_best = [f0_best] # store the best fitness in each generation\n",
    "\n",
    "    # Loop over the generations\n",
    "    for i in range(int(max_fit_evals / population_size)):\n",
    "        if max(f) == num_of_dims:  # If a valid solution is found, stop the algorithm\n",
    "            break\n",
    "        # Select population size parents\n",
    "        x_parents, f_parents = parent_selection_n_queens(x, f) # select the parents\n",
    "\n",
    "        x_offspring = crossover_n_queens(x_parents, p_crossover) # create the offspring\n",
    "\n",
    "        x_offspring = mutation_n_queens(x_offspring, m_rate) # mutate the offspring\n",
    "\n",
    "        f_offspring = evaluation_n_queens(x_offspring) # evaluate the fitness of the offspring\n",
    "\n",
    "        idx = np.argmax(f) # find the index of the best individual\n",
    "        elite = x[idx] # select the elite individual\n",
    "\n",
    "        x, f = survivor_selection_n_queens(x, f, x_offspring, f_offspring) # select the survivors\n",
    "        \n",
    "        idx = np.argmin(f) # find the index of the worst individual\n",
    "        x[idx] = elite # replace the worst individual with the elite individual\n",
    "        f[idx] = evaluation_n_queens([elite])[0] # evaluate the fitness of the elite individual\n",
    "\n",
    "        idx = np.argmax(f) # find the index of the best individual\n",
    "        xi_best = x[idx] # select the best individual\n",
    "        fi_best = f[idx] # select the fitness of the best individual\n",
    "        if fi_best > f_best[-1]: # check if the new best individual is better than the previous best individual\n",
    "            x_best.append(xi_best) # store the best solution in each generation\n",
    "            f_best.append(fi_best) # store the best fitness in each generation\n",
    "        else:\n",
    "            x_best.append(x_best[-1]) # store the best solution in each generation\n",
    "            f_best.append(f_best[-1]) # store the best fitness in each generation\n",
    "\n",
    "    return x, f_best"
   ]
  },
  {
   "cell_type": "markdown",
   "id": "5dbd9c6e",
   "metadata": {
    "editable": true
   },
   "source": [
    "---\n",
    "**Results:**\n",
    "\n",
    "Run the code below to run an EA for N=8, 16 and 32, and visualize the best solutions found.\n"
   ]
  },
  {
   "cell_type": "code",
   "execution_count": 334,
   "id": "d552cd8b",
   "metadata": {},
   "outputs": [
    {
     "name": "stdout",
     "output_type": "stream",
     "text": [
      "Case when N=8:\n",
      "Best fitness: 8\n",
      "Best solution found:\n",
      ". . . . . . Q .\n",
      ". . . Q . . . .\n",
      ". Q . . . . . .\n",
      ". . . . . . . Q\n",
      ". . . . . Q . .\n",
      "Q . . . . . . .\n",
      ". . Q . . . . .\n",
      ". . . . Q . . .\n"
     ]
    }
   ],
   "source": [
    "print(\"Case when N=8:\")\n",
    "\n",
    "x_best, f_best = ea_n_queens(100, 10000, 0.5, 0.1, 8)\n",
    "\n",
    "\n",
    "print(\"Best fitness:\", f_best[-1])\n",
    "print(\"Best solution found:\")\n",
    "visualize_solution(x_best[-1])"
   ]
  },
  {
   "cell_type": "code",
   "execution_count": 336,
   "id": "ce31cc6b",
   "metadata": {},
   "outputs": [
    {
     "name": "stdout",
     "output_type": "stream",
     "text": [
      "Case when N=16:\n",
      "Best fitness: 16\n",
      "Best solution found:\n",
      ". . . . . . . Q . . . . . . . .\n",
      ". . Q . . . . . . . . . . . . .\n",
      ". . . . . . . . . . . . Q . . .\n",
      ". . . . . Q . . . . . . . . . .\n",
      ". . . . . . . . . . . . . . . Q\n",
      ". . . . . . . . . . Q . . . . .\n",
      ". . . . . . . . . . . . . . Q .\n",
      ". . . . . . . . . . . Q . . . .\n",
      ". . . . Q . . . . . . . . . . .\n",
      "Q . . . . . . . . . . . . . . .\n",
      ". . . Q . . . . . . . . . . . .\n",
      ". . . . . . Q . . . . . . . . .\n",
      ". . . . . . . . . Q . . . . . .\n",
      ". . . . . . . . . . . . . Q . .\n",
      ". . . . . . . . Q . . . . . . .\n",
      ". Q . . . . . . . . . . . . . .\n"
     ]
    }
   ],
   "source": [
    "print(\"Case when N=16:\")\n",
    "x_best, f_best = ea_n_queens(200, 100000, 0.9, 0.2, 16)\n",
    "\n",
    "\n",
    "print(\"Best fitness:\", f_best[-1])\n",
    "print(\"Best solution found:\")\n",
    "visualize_solution(x_best[-1])"
   ]
  },
  {
   "cell_type": "code",
   "execution_count": 284,
   "id": "26c2fa31",
   "metadata": {},
   "outputs": [
    {
     "name": "stdout",
     "output_type": "stream",
     "text": [
      "Case when N=32:\n",
      "Best fitness: 32\n",
      "Best solution found:\n",
      ". . . . . . . . . . . . . . . Q . . . . . . . . . . . . . . . .\n",
      ". . . . . . . . Q . . . . . . . . . . . . . . . . . . . . . . .\n",
      ". . . . . . . . . . . . . . . . . . . . . . . Q . . . . . . . .\n",
      ". . . . . . . . . . . . . . . . . . . . . . . . . . . . . Q . .\n",
      ". . . . . . . . . Q . . . . . . . . . . . . . . . . . . . . . .\n",
      ". . . . . . . . . . . . . . . . . Q . . . . . . . . . . . . . .\n",
      ". . . . . . . . . . . . . . Q . . . . . . . . . . . . . . . . .\n",
      ". . . . . . . Q . . . . . . . . . . . . . . . . . . . . . . . .\n",
      ". . . Q . . . . . . . . . . . . . . . . . . . . . . . . . . . .\n",
      ". . . . . . . . . . . . . . . . . . . . Q . . . . . . . . . . .\n",
      ". . . . . . . . . . . . . . . . . . . . . . . . . . . Q . . . .\n",
      ". . . . . . . . . . . . . . . . . . . . . . . . . . . . . . . Q\n",
      ". . . . . . . . . . . . . . . . . . Q . . . . . . . . . . . . .\n",
      ". . . . . . Q . . . . . . . . . . . . . . . . . . . . . . . . .\n",
      ". . . . Q . . . . . . . . . . . . . . . . . . . . . . . . . . .\n",
      ". . . . . . . . . . . . . Q . . . . . . . . . . . . . . . . . .\n",
      "Q . . . . . . . . . . . . . . . . . . . . . . . . . . . . . . .\n",
      ". . . . . . . . . . . . . . . . . . . . . . . . . . . . . . Q .\n",
      ". . . . . . . . . . . . . . . . . . . . . Q . . . . . . . . . .\n",
      ". . . . . Q . . . . . . . . . . . . . . . . . . . . . . . . . .\n",
      ". . . . . . . . . . . Q . . . . . . . . . . . . . . . . . . . .\n",
      ". . . . . . . . . . . . . . . . . . . . . . . . . Q . . . . . .\n",
      ". . . . . . . . . . . . . . . . . . . Q . . . . . . . . . . . .\n",
      ". . . . . . . . . . . . Q . . . . . . . . . . . . . . . . . . .\n",
      ". . . . . . . . . . . . . . . . . . . . . . . . . . Q . . . . .\n",
      ". . . . . . . . . . . . . . . . . . . . . . . . Q . . . . . . .\n",
      ". Q . . . . . . . . . . . . . . . . . . . . . . . . . . . . . .\n",
      ". . . . . . . . . . . . . . . . . . . . . . . . . . . . Q . . .\n",
      ". . . . . . . . . . Q . . . . . . . . . . . . . . . . . . . . .\n",
      ". . . . . . . . . . . . . . . . Q . . . . . . . . . . . . . . .\n",
      ". . . . . . . . . . . . . . . . . . . . . . Q . . . . . . . . .\n",
      ". . Q . . . . . . . . . . . . . . . . . . . . . . . . . . . . .\n"
     ]
    }
   ],
   "source": [
    "print(\"Case when N=32:\")\n",
    "x_best, f_best = ea_n_queens(200, 50000, 0.7, 0.2, 32)\n",
    "\n",
    "print(\"Best fitness:\", f_best[-1])\n",
    "print(\"Best solution found:\")\n",
    "visualize_solution(x_best[-1])"
   ]
  },
  {
   "cell_type": "markdown",
   "id": "10c8fd5e",
   "metadata": {
    "editable": true
   },
   "source": [
    "---\n",
    "\n",
    "**Question 2.4 (0-0.2-0.4-0.6-1-1.5 pt):** Describe the results. What was the fitness found for each case? Were you able to find fitness scores of 8, 16 and 32 for N=8, 16 and 32 cases? How did you find them? Did you try improving the results by testing different parameters and/or evolutionary operators?\n",
    "\n",
    "Grading:\n",
    "\n",
    "0 pts: no solution or visualization provided.\n",
    "\n",
    "0.2 pts: Solutions and visualizations were provided, no insights provided how the results achieved. \n",
    "\n",
    "0.4 pts: Solutions and visualizations were provided, at least for N=8, a optimum solution was found, limited/no insights provided on how this result is achieved. \n",
    "\n",
    "0.6 pts: Solutions and visualizations were provided, at least for N=8, a optimum solution was found, insights on how this result is achieved provided.\n",
    "\n",
    "1 pts: Solutions and visualizations were provided, for N=8 and N=16, optimum solutions were found, insights on how this result is achieved provided. \n",
    "\n",
    "1.5 pts: Solutions and visualizations were provided, for N=8, N=16 and N=32, optimum solutions were found, insights on how this result is achieved provided. \n",
    "\n",
    "**Answer:** The results I received were a bit random and thus varied, but I was able to consistently get the best fitness scores of 8, 16, and 32 for the cases N=8, 16, and 32 respectively. These scores tell the solutions where no two queens threaten each other. To achieve this result, I initially used a single point crossover and a swap mutation. However I later realized that these methods were not going to be sufficient to find the optimal solutions for larger problem sizes. To improve these results, I implemented a scramble mutation which shuffles a subset of the genes in an individual. However, it didn't work the way I expected it to. After this, I tried implementing elitism in the survivor selection step, where the best individuals from each generation are carried over to the next generation. This helped ensure the quality of population did not degrade over time. By experimenting with different parameters and evolutionary operators, I was able to find the optimal solutions for N=8, N=16 and N=32 cases."
   ]
  },
  {
   "cell_type": "markdown",
   "id": "15174c6e",
   "metadata": {
    "editable": true
   },
   "source": [
    "---\n",
    "\n",
    "#### Plotting the average performance of the algorithm\n",
    "Use the cells below to plot the results of your algorithm similar to Part 1. The plots should show average and std of 10 runs of EA for n-queens problem for N=8, 16, 32."
   ]
  },
  {
   "cell_type": "code",
   "execution_count": 308,
   "id": "8d5c21fb",
   "metadata": {},
   "outputs": [],
   "source": [
    "def run_experiment_n_queens(population_size, p_crossover, m_rate):\n",
    "    # These are the hyperparameters of your evolutionary algorithm. You are not allowed to change them.\n",
    "\n",
    "    max_fit_evals = 10000\n",
    "\n",
    "    fitness_8 = []\n",
    "    fitness_16 = []\n",
    "    fitness_32 = []\n",
    "\n",
    "    runs = 10\n",
    "\n",
    "    for run in range(runs):\n",
    "        print(\"Run: \", run)\n",
    "\n",
    "        _, f_best_8 = ea_n_queens(\n",
    "            population_size[0], max_fit_evals, p_crossover[0], m_rate[0], num_of_dims=8\n",
    "        )\n",
    "        _, f_best_16 = ea_n_queens(\n",
    "            population_size[1], max_fit_evals, p_crossover[1], m_rate[1], num_of_dims=16\n",
    "        )\n",
    "        _, f_best_32 = ea_n_queens(\n",
    "            population_size[2], max_fit_evals, p_crossover[2], m_rate[2], num_of_dims=32\n",
    "        )\n",
    "        fitness_8.append(f_best_8)\n",
    "        fitness_16.append(f_best_16)\n",
    "        fitness_32.append(f_best_32)\n",
    "\n",
    "    avg_8, std_8 = calculate_mean_std(fitness_8)\n",
    "    avg_16, std_16 = calculate_mean_std(fitness_16)\n",
    "    avg_32, std_32 = calculate_mean_std(fitness_32)\n",
    "\n",
    "    avgs = [avg_8, avg_16, avg_32]\n",
    "    stds = [std_8, std_16, std_32]\n",
    "    all_runs = [fitness_8, fitness_16, fitness_32]\n",
    "\n",
    "    return avgs, stds, all_runs"
   ]
  },
  {
   "cell_type": "code",
   "execution_count": 309,
   "id": "d944d197",
   "metadata": {},
   "outputs": [
    {
     "name": "stdout",
     "output_type": "stream",
     "text": [
      "Run:  0\n"
     ]
    },
    {
     "name": "stdout",
     "output_type": "stream",
     "text": [
      "Run:  1\n",
      "Run:  2\n",
      "Run:  3\n",
      "Run:  4\n",
      "Run:  5\n",
      "Run:  6\n",
      "Run:  7\n",
      "Run:  8\n",
      "Run:  9\n"
     ]
    }
   ],
   "source": [
    "population_size = [100, 100, 100]  # not allowed to change\n",
    "p_crossover = [0.8, 0.8, 0.8]  # not allowed to change\n",
    "m_rate = [0.1, 0.1, 0.1]  # not allowed to change\n",
    "\n",
    "avgs_experiment_1, stds_experiment_1, all_runs_experiment_1 = run_experiment_n_queens(\n",
    "    population_size, p_crossover, m_rate    \n",
    ")"
   ]
  },
  {
   "cell_type": "code",
   "execution_count": 310,
   "id": "07be863e",
   "metadata": {},
   "outputs": [],
   "source": [
    "labels = [\"N = 8\", \"N = 16\", \"N = 32\"]\n",
    "\n",
    "generate_subplot_function(\n",
    "    avgs_experiment_1,\n",
    "    stds_experiment_1,\n",
    "    labels,\n",
    "    avgs_experiment_2=None,\n",
    "    stds_experiment_2=None,\n",
    "    n_columns=3,\n",
    "    n_queens=[8, 16, 32],\n",
    ")"
   ]
  },
  {
   "cell_type": "markdown",
   "id": "9b1ec052",
   "metadata": {
    "deletable": true,
    "editable": true
   },
   "source": [
    "**Question 2.5 (0-0.2-0.4 pt)** Describe the average performance of the algorithm. What was the maximum average fitness found for each case? Do you see any differences between the problem cases?\n",
    "\n",
    "**Answer**: The average performance of the algorithm seems to be the best for sphere function with 10 dimensions. sphere function with 50 dimensions is comparatively showing a lower value then sphere with 10 dimensions. in Ackley functions, the average fitness seems to be lower than the 10-dimensional sphere case. This suggests that EA finds it more challenging to optimize for Ackley function compared to sphere function, even with the same no. of dimensions.\n",
    "\n"
   ]
  }
 ],
 "metadata": {
  "jupytext": {
   "formats": "ipynb,md,py:light"
  },
  "kernelspec": {
   "display_name": "Python 3 (ipykernel)",
   "language": "python",
   "name": "python3"
  },
  "language_info": {
   "codemirror_mode": {
    "name": "ipython",
    "version": 3
   },
   "file_extension": ".py",
   "mimetype": "text/x-python",
   "name": "python",
   "nbconvert_exporter": "python",
   "pygments_lexer": "ipython3",
   "version": "3.11.5"
  },
  "toc": {
   "base_numbering": 1
  }
 },
 "nbformat": 4,
 "nbformat_minor": 5
}
