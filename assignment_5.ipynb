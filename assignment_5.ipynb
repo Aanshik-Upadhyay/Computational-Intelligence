{
 "cells": [
  {
   "cell_type": "markdown",
   "id": "b66642bc",
   "metadata": {
    "deletable": true,
    "editable": true,
    "id": "4366e4b1"
   },
   "source": [
    "# Assignment 5: Neuroevolution\n",
    "\n",
    "**Goal**: Implement an Evolutionary Algorithm to optimize an Artificial Neural Network (ANN) based controller for the CartPole task in OpenAI Gym environment.\n",
    "\n",
    "CartPole evaluation environment functions are provided. Your goal is to implement your ANN to control the cartpole and use your Evolutionary Algorithm to optimize the ANN parameters (weights).\n",
    "\n",
    "Please answer the `Questions` and implement coding `Tasks` by filling **PLEASE FILL IN** sections. *Documentation* of your code is also important. You can find the grading scheme in implementation cells.\n",
    "\n",
    "  * Plagiarism is automatically checked and set to **0 points**\n",
    "\n",
    "  * It is allowed to learn from external resources but copying is not allowed. If you use any external resource, please cite them in the comments (e.g. `# source: https://...../` (see `fitness_function`))"
   ]
  },
  {
   "cell_type": "markdown",
   "id": "6d4169c0",
   "metadata": {
    "deletable": true,
    "editable": true,
    "id": "36de6798"
   },
   "source": [
    "**Install Prerequisites**"
   ]
  },
  {
   "cell_type": "code",
   "execution_count": 37,
   "id": "42dec0be",
   "metadata": {
    "deletable": true,
    "editable": true,
    "id": "e553c575"
   },
   "outputs": [
    {
     "name": "stdout",
     "output_type": "stream",
     "text": [
      "Defaulting to user installation because normal site-packages is not writeable\n",
      "Requirement already satisfied: numpy in c:\\users\\anshi\\appdata\\roaming\\python\\python311\\site-packages (1.26.4)\n",
      "Requirement already satisfied: matplotlib in c:\\users\\anshi\\appdata\\roaming\\python\\python311\\site-packages (3.8.4)\n",
      "Requirement already satisfied: scipy in c:\\programdata\\anaconda3\\lib\\site-packages (1.11.1)\n",
      "Requirement already satisfied: contourpy>=1.0.1 in c:\\programdata\\anaconda3\\lib\\site-packages (from matplotlib) (1.0.5)\n",
      "Requirement already satisfied: cycler>=0.10 in c:\\programdata\\anaconda3\\lib\\site-packages (from matplotlib) (0.11.0)\n",
      "Requirement already satisfied: fonttools>=4.22.0 in c:\\programdata\\anaconda3\\lib\\site-packages (from matplotlib) (4.25.0)\n",
      "Requirement already satisfied: kiwisolver>=1.3.1 in c:\\programdata\\anaconda3\\lib\\site-packages (from matplotlib) (1.4.4)\n",
      "Requirement already satisfied: packaging>=20.0 in c:\\programdata\\anaconda3\\lib\\site-packages (from matplotlib) (23.1)\n",
      "Requirement already satisfied: pillow>=8 in c:\\programdata\\anaconda3\\lib\\site-packages (from matplotlib) (9.4.0)\n",
      "Requirement already satisfied: pyparsing>=2.3.1 in c:\\programdata\\anaconda3\\lib\\site-packages (from matplotlib) (3.0.9)\n",
      "Requirement already satisfied: python-dateutil>=2.7 in c:\\programdata\\anaconda3\\lib\\site-packages (from matplotlib) (2.8.2)\n",
      "Requirement already satisfied: six>=1.5 in c:\\programdata\\anaconda3\\lib\\site-packages (from python-dateutil>=2.7->matplotlib) (1.16.0)\n",
      "Note: you may need to restart the kernel to use updated packages.\n",
      "Defaulting to user installation because normal site-packages is not writeable\n",
      "Requirement already satisfied: moviepy in c:\\users\\anshi\\appdata\\roaming\\python\\python311\\site-packages (1.0.3)\n",
      "Requirement already satisfied: decorator<5.0,>=4.0.2 in c:\\users\\anshi\\appdata\\roaming\\python\\python311\\site-packages (from moviepy) (4.4.2)\n",
      "Requirement already satisfied: tqdm<5.0,>=4.11.2 in c:\\users\\anshi\\appdata\\roaming\\python\\python311\\site-packages (from moviepy) (4.66.2)\n",
      "Requirement already satisfied: requests<3.0,>=2.8.1 in c:\\programdata\\anaconda3\\lib\\site-packages (from moviepy) (2.31.0)\n",
      "Requirement already satisfied: proglog<=1.0.0 in c:\\users\\anshi\\appdata\\roaming\\python\\python311\\site-packages (from moviepy) (0.1.10)\n",
      "Requirement already satisfied: numpy>=1.17.3 in c:\\users\\anshi\\appdata\\roaming\\python\\python311\\site-packages (from moviepy) (1.26.4)\n",
      "Requirement already satisfied: imageio<3.0,>=2.5 in c:\\programdata\\anaconda3\\lib\\site-packages (from moviepy) (2.26.0)\n",
      "Requirement already satisfied: imageio-ffmpeg>=0.2.0 in c:\\users\\anshi\\appdata\\roaming\\python\\python311\\site-packages (from moviepy) (0.4.9)\n",
      "Requirement already satisfied: pillow>=8.3.2 in c:\\programdata\\anaconda3\\lib\\site-packages (from imageio<3.0,>=2.5->moviepy) (9.4.0)\n",
      "Requirement already satisfied: setuptools in c:\\programdata\\anaconda3\\lib\\site-packages (from imageio-ffmpeg>=0.2.0->moviepy) (68.0.0)\n",
      "Requirement already satisfied: charset-normalizer<4,>=2 in c:\\programdata\\anaconda3\\lib\\site-packages (from requests<3.0,>=2.8.1->moviepy) (2.0.4)\n",
      "Requirement already satisfied: idna<4,>=2.5 in c:\\programdata\\anaconda3\\lib\\site-packages (from requests<3.0,>=2.8.1->moviepy) (3.4)\n",
      "Requirement already satisfied: urllib3<3,>=1.21.1 in c:\\programdata\\anaconda3\\lib\\site-packages (from requests<3.0,>=2.8.1->moviepy) (1.26.16)\n",
      "Requirement already satisfied: certifi>=2017.4.17 in c:\\programdata\\anaconda3\\lib\\site-packages (from requests<3.0,>=2.8.1->moviepy) (2024.2.2)\n",
      "Requirement already satisfied: colorama in c:\\programdata\\anaconda3\\lib\\site-packages (from tqdm<5.0,>=4.11.2->moviepy) (0.4.6)\n",
      "Note: you may need to restart the kernel to use updated packages.\n",
      "Defaulting to user installation because normal site-packages is not writeable\n",
      "Requirement already satisfied: pygame in c:\\users\\anshi\\appdata\\roaming\\python\\python311\\site-packages (2.5.2)\n",
      "Note: you may need to restart the kernel to use updated packages.\n"
     ]
    }
   ],
   "source": [
    "# Run this cell to install the required libraries\n",
    "%pip install numpy matplotlib scipy\n",
    "%pip install moviepy\n"
   ]
  },
  {
   "cell_type": "markdown",
   "id": "7406fbfe",
   "metadata": {
    "deletable": true,
    "editable": true,
    "id": "e2150ce2"
   },
   "source": [
    "**Imports**"
   ]
  },
  {
   "cell_type": "code",
   "execution_count": 3,
   "id": "96c0767a",
   "metadata": {
    "deletable": true,
    "editable": true,
    "id": "4c4c8007"
   },
   "outputs": [
    {
     "name": "stdout",
     "output_type": "stream",
     "text": [
      "Defaulting to user installation because normal site-packages is not writeable\n",
      "Requirement already satisfied: keras in c:\\users\\anshi\\appdata\\roaming\\python\\python311\\site-packages (3.3.3)\n",
      "Requirement already satisfied: absl-py in c:\\users\\anshi\\appdata\\roaming\\python\\python311\\site-packages (from keras) (2.1.0)\n",
      "Requirement already satisfied: numpy in c:\\users\\anshi\\appdata\\roaming\\python\\python311\\site-packages (from keras) (1.26.4)\n",
      "Requirement already satisfied: rich in c:\\programdata\\anaconda3\\lib\\site-packages (from keras) (13.7.0)\n",
      "Requirement already satisfied: namex in c:\\users\\anshi\\appdata\\roaming\\python\\python311\\site-packages (from keras) (0.0.8)\n",
      "Requirement already satisfied: h5py in c:\\users\\anshi\\appdata\\roaming\\python\\python311\\site-packages (from keras) (3.11.0)\n",
      "Requirement already satisfied: optree in c:\\users\\anshi\\appdata\\roaming\\python\\python311\\site-packages (from keras) (0.11.0)\n",
      "Requirement already satisfied: ml-dtypes in c:\\users\\anshi\\appdata\\roaming\\python\\python311\\site-packages (from keras) (0.3.2)\n",
      "Requirement already satisfied: typing-extensions>=4.0.0 in c:\\users\\anshi\\appdata\\roaming\\python\\python311\\site-packages (from optree->keras) (4.10.0)\n",
      "Requirement already satisfied: markdown-it-py>=2.2.0 in c:\\programdata\\anaconda3\\lib\\site-packages (from rich->keras) (2.2.0)\n",
      "Requirement already satisfied: pygments<3.0.0,>=2.13.0 in c:\\programdata\\anaconda3\\lib\\site-packages (from rich->keras) (2.15.1)\n",
      "Requirement already satisfied: mdurl~=0.1 in c:\\programdata\\anaconda3\\lib\\site-packages (from markdown-it-py>=2.2.0->rich->keras) (0.1.0)\n",
      "Note: you may need to restart the kernel to use updated packages.\n"
     ]
    }
   ],
   "source": [
    "# Necessary libraries\n",
    "import matplotlib.pyplot as plt\n",
    "import numpy as np\n",
    "\n",
    "%pip install keras"
   ]
  },
  {
   "cell_type": "code",
   "execution_count": 50,
   "id": "e4004c96",
   "metadata": {},
   "outputs": [
    {
     "name": "stdout",
     "output_type": "stream",
     "text": [
      "Defaulting to user installation because normal site-packages is not writeable\n",
      "Requirement already satisfied: tensorflow in c:\\users\\anshi\\appdata\\roaming\\python\\python311\\site-packages (2.16.1)\n",
      "Requirement already satisfied: tensorflow-intel==2.16.1 in c:\\users\\anshi\\appdata\\roaming\\python\\python311\\site-packages (from tensorflow) (2.16.1)\n",
      "Requirement already satisfied: absl-py>=1.0.0 in c:\\users\\anshi\\appdata\\roaming\\python\\python311\\site-packages (from tensorflow-intel==2.16.1->tensorflow) (2.1.0)\n",
      "Requirement already satisfied: astunparse>=1.6.0 in c:\\users\\anshi\\appdata\\roaming\\python\\python311\\site-packages (from tensorflow-intel==2.16.1->tensorflow) (1.6.3)\n",
      "Requirement already satisfied: flatbuffers>=23.5.26 in c:\\users\\anshi\\appdata\\roaming\\python\\python311\\site-packages (from tensorflow-intel==2.16.1->tensorflow) (24.3.25)\n",
      "Requirement already satisfied: gast!=0.5.0,!=0.5.1,!=0.5.2,>=0.2.1 in c:\\users\\anshi\\appdata\\roaming\\python\\python311\\site-packages (from tensorflow-intel==2.16.1->tensorflow) (0.5.4)\n",
      "Requirement already satisfied: google-pasta>=0.1.1 in c:\\users\\anshi\\appdata\\roaming\\python\\python311\\site-packages (from tensorflow-intel==2.16.1->tensorflow) (0.2.0)\n",
      "Requirement already satisfied: h5py>=3.10.0 in c:\\users\\anshi\\appdata\\roaming\\python\\python311\\site-packages (from tensorflow-intel==2.16.1->tensorflow) (3.11.0)\n",
      "Requirement already satisfied: libclang>=13.0.0 in c:\\users\\anshi\\appdata\\roaming\\python\\python311\\site-packages (from tensorflow-intel==2.16.1->tensorflow) (18.1.1)\n",
      "Requirement already satisfied: ml-dtypes~=0.3.1 in c:\\users\\anshi\\appdata\\roaming\\python\\python311\\site-packages (from tensorflow-intel==2.16.1->tensorflow) (0.3.2)\n",
      "Requirement already satisfied: opt-einsum>=2.3.2 in c:\\users\\anshi\\appdata\\roaming\\python\\python311\\site-packages (from tensorflow-intel==2.16.1->tensorflow) (3.3.0)\n",
      "Requirement already satisfied: packaging in c:\\programdata\\anaconda3\\lib\\site-packages (from tensorflow-intel==2.16.1->tensorflow) (23.1)\n",
      "Requirement already satisfied: protobuf!=4.21.0,!=4.21.1,!=4.21.2,!=4.21.3,!=4.21.4,!=4.21.5,<5.0.0dev,>=3.20.3 in c:\\users\\anshi\\appdata\\roaming\\python\\python311\\site-packages (from tensorflow-intel==2.16.1->tensorflow) (4.25.3)\n",
      "Requirement already satisfied: requests<3,>=2.21.0 in c:\\programdata\\anaconda3\\lib\\site-packages (from tensorflow-intel==2.16.1->tensorflow) (2.31.0)\n",
      "Requirement already satisfied: setuptools in c:\\programdata\\anaconda3\\lib\\site-packages (from tensorflow-intel==2.16.1->tensorflow) (68.0.0)\n",
      "Requirement already satisfied: six>=1.12.0 in c:\\programdata\\anaconda3\\lib\\site-packages (from tensorflow-intel==2.16.1->tensorflow) (1.16.0)\n",
      "Requirement already satisfied: termcolor>=1.1.0 in c:\\users\\anshi\\appdata\\roaming\\python\\python311\\site-packages (from tensorflow-intel==2.16.1->tensorflow) (2.4.0)\n",
      "Requirement already satisfied: typing-extensions>=3.6.6 in c:\\users\\anshi\\appdata\\roaming\\python\\python311\\site-packages (from tensorflow-intel==2.16.1->tensorflow) (4.10.0)\n",
      "Requirement already satisfied: wrapt>=1.11.0 in c:\\programdata\\anaconda3\\lib\\site-packages (from tensorflow-intel==2.16.1->tensorflow) (1.14.1)\n",
      "Requirement already satisfied: grpcio<2.0,>=1.24.3 in c:\\users\\anshi\\appdata\\roaming\\python\\python311\\site-packages (from tensorflow-intel==2.16.1->tensorflow) (1.62.1)\n",
      "Requirement already satisfied: tensorboard<2.17,>=2.16 in c:\\users\\anshi\\appdata\\roaming\\python\\python311\\site-packages (from tensorflow-intel==2.16.1->tensorflow) (2.16.2)\n",
      "Requirement already satisfied: keras>=3.0.0 in c:\\users\\anshi\\appdata\\roaming\\python\\python311\\site-packages (from tensorflow-intel==2.16.1->tensorflow) (3.3.3)\n",
      "Requirement already satisfied: tensorflow-io-gcs-filesystem>=0.23.1 in c:\\users\\anshi\\appdata\\roaming\\python\\python311\\site-packages (from tensorflow-intel==2.16.1->tensorflow) (0.31.0)\n",
      "Requirement already satisfied: numpy<2.0.0,>=1.23.5 in c:\\users\\anshi\\appdata\\roaming\\python\\python311\\site-packages (from tensorflow-intel==2.16.1->tensorflow) (1.26.4)\n",
      "Requirement already satisfied: wheel<1.0,>=0.23.0 in c:\\programdata\\anaconda3\\lib\\site-packages (from astunparse>=1.6.0->tensorflow-intel==2.16.1->tensorflow) (0.38.4)\n",
      "Requirement already satisfied: rich in c:\\programdata\\anaconda3\\lib\\site-packages (from keras>=3.0.0->tensorflow-intel==2.16.1->tensorflow) (13.7.0)\n",
      "Requirement already satisfied: namex in c:\\users\\anshi\\appdata\\roaming\\python\\python311\\site-packages (from keras>=3.0.0->tensorflow-intel==2.16.1->tensorflow) (0.0.8)\n",
      "Requirement already satisfied: optree in c:\\users\\anshi\\appdata\\roaming\\python\\python311\\site-packages (from keras>=3.0.0->tensorflow-intel==2.16.1->tensorflow) (0.11.0)\n",
      "Requirement already satisfied: charset-normalizer<4,>=2 in c:\\programdata\\anaconda3\\lib\\site-packages (from requests<3,>=2.21.0->tensorflow-intel==2.16.1->tensorflow) (2.0.4)\n",
      "Requirement already satisfied: idna<4,>=2.5 in c:\\programdata\\anaconda3\\lib\\site-packages (from requests<3,>=2.21.0->tensorflow-intel==2.16.1->tensorflow) (3.4)\n",
      "Requirement already satisfied: urllib3<3,>=1.21.1 in c:\\programdata\\anaconda3\\lib\\site-packages (from requests<3,>=2.21.0->tensorflow-intel==2.16.1->tensorflow) (1.26.16)\n",
      "Requirement already satisfied: certifi>=2017.4.17 in c:\\programdata\\anaconda3\\lib\\site-packages (from requests<3,>=2.21.0->tensorflow-intel==2.16.1->tensorflow) (2024.2.2)\n",
      "Requirement already satisfied: markdown>=2.6.8 in c:\\programdata\\anaconda3\\lib\\site-packages (from tensorboard<2.17,>=2.16->tensorflow-intel==2.16.1->tensorflow) (3.4.1)\n",
      "Requirement already satisfied: tensorboard-data-server<0.8.0,>=0.7.0 in c:\\users\\anshi\\appdata\\roaming\\python\\python311\\site-packages (from tensorboard<2.17,>=2.16->tensorflow-intel==2.16.1->tensorflow) (0.7.2)\n",
      "Requirement already satisfied: werkzeug>=1.0.1 in c:\\programdata\\anaconda3\\lib\\site-packages (from tensorboard<2.17,>=2.16->tensorflow-intel==2.16.1->tensorflow) (2.2.3)\n",
      "Requirement already satisfied: MarkupSafe>=2.1.1 in c:\\programdata\\anaconda3\\lib\\site-packages (from werkzeug>=1.0.1->tensorboard<2.17,>=2.16->tensorflow-intel==2.16.1->tensorflow) (2.1.1)\n",
      "Requirement already satisfied: markdown-it-py>=2.2.0 in c:\\programdata\\anaconda3\\lib\\site-packages (from rich->keras>=3.0.0->tensorflow-intel==2.16.1->tensorflow) (2.2.0)\n",
      "Requirement already satisfied: pygments<3.0.0,>=2.13.0 in c:\\programdata\\anaconda3\\lib\\site-packages (from rich->keras>=3.0.0->tensorflow-intel==2.16.1->tensorflow) (2.15.1)\n",
      "Requirement already satisfied: mdurl~=0.1 in c:\\programdata\\anaconda3\\lib\\site-packages (from markdown-it-py>=2.2.0->rich->keras>=3.0.0->tensorflow-intel==2.16.1->tensorflow) (0.1.0)\n",
      "Note: you may need to restart the kernel to use updated packages.\n",
      "Defaulting to user installation because normal site-packages is not writeable\n",
      "Requirement already satisfied: deap in c:\\users\\anshi\\appdata\\roaming\\python\\python311\\site-packages (1.4.1)\n",
      "Requirement already satisfied: numpy in c:\\users\\anshi\\appdata\\roaming\\python\\python311\\site-packages (from deap) (1.26.4)\n",
      "Note: you may need to restart the kernel to use updated packages.\n"
     ]
    }
   ],
   "source": [
    "%pip install tensorflow\n",
    "%pip install deap\n",
    "from keras.models import Sequential\n",
    "from keras.layers import Dense\n",
    "from keras.optimizers import Adam\n",
    "from deap import base, creator, tools, algorithms"
   ]
  },
  {
   "cell_type": "code",
   "execution_count": 6,
   "id": "bcc4a79c",
   "metadata": {
    "deletable": true,
    "editable": true,
    "id": "ade95dd9"
   },
   "outputs": [],
   "source": [
    "# Enables inline matplotib graphs\n",
    "%matplotlib inline\n",
    "# Comment the line above and uncomment the lines below to have interactive plots\n",
    "# WARN: may cause dependency issues\n",
    "#%matplotlib qt5\n",
    "#%pip install PyQt5\n",
    "#plt.ion()"
   ]
  },
  {
   "cell_type": "code",
   "execution_count": 7,
   "id": "35be240b",
   "metadata": {
    "deletable": true,
    "editable": true,
    "id": "b90d39c6",
    "lines_to_next_cell": 2
   },
   "outputs": [
    {
     "name": "stdout",
     "output_type": "stream",
     "text": [
      "Defaulting to user installation because normal site-packages is not writeable\n",
      "Requirement already satisfied: gymnasium in c:\\users\\anshi\\appdata\\roaming\\python\\python311\\site-packages (0.29.1)\n",
      "Requirement already satisfied: numpy>=1.21.0 in c:\\users\\anshi\\appdata\\roaming\\python\\python311\\site-packages (from gymnasium) (1.26.4)\n",
      "Requirement already satisfied: cloudpickle>=1.2.0 in c:\\programdata\\anaconda3\\lib\\site-packages (from gymnasium) (2.2.1)\n",
      "Requirement already satisfied: typing-extensions>=4.3.0 in c:\\users\\anshi\\appdata\\roaming\\python\\python311\\site-packages (from gymnasium) (4.10.0)\n",
      "Requirement already satisfied: farama-notifications>=0.0.1 in c:\\users\\anshi\\appdata\\roaming\\python\\python311\\site-packages (from gymnasium) (0.0.4)\n",
      "Note: you may need to restart the kernel to use updated packages.\n"
     ]
    }
   ],
   "source": [
    "%pip install gymnasium\n",
    "import gymnasium as gym"
   ]
  },
  {
   "cell_type": "markdown",
   "id": "5d1a0353",
   "metadata": {
    "deletable": true,
    "editable": true,
    "id": "9d95fca1"
   },
   "source": [
    "---\n",
    "**Question 1 (0-0.25-0.5 pt):** Following link provides more information about the CartPole environemnt we would like to find an ANN to control: https://www.gymlibrary.dev/environments/classic_control/cart_pole/\n",
    "\n",
    "Please have a look at the link and note the observation and action spaces, how many dimensions they have? Are they continous or discrete, and what kinds of value they can get?\n",
    "\n",
    "**Answer:** From what I can deduce from that website, the observation space is a four-dimensional vector containing information about the cart's position, velocity, pole angle, and pole angular velocity. The action space is discrete and it has only 2 possibilities, which are pushing the cart left or right.\n"
   ]
  },
  {
   "cell_type": "markdown",
   "id": "5a4de2e7",
   "metadata": {
    "deletable": true,
    "editable": true,
    "id": "eb5c264e"
   },
   "source": [
    "---\n",
    "**Question 2 (0-0.25-0.5 pt):** What is your proposed ANN architecture and why? Please also discuss the activation functions you choose.\n",
    "\n",
    "**Answer:** My proposed ANN architecture would be an input layer with 4 neurons corresponding to the 4 dimensions of the observation space, 1-2 hidden layers with a no. of neurons each. I would like to determine the exact number after experimentation, and an output layer with 2 neurons, depicting the 2 possible actions. For the hidden layers, the Rectified Linear Unit function is a common choice, which is what I will choose. For the output layer, i will use the softmax function. "
   ]
  },
  {
   "cell_type": "markdown",
   "id": "af2a7ba8",
   "metadata": {
    "deletable": true,
    "editable": true,
    "id": "0737934f"
   },
   "source": [
    "---\n",
    "**Task 1: Implementation of Evolutionary Algrotihm (0-1.6-3.8-4.2-5 pt):** Implement your evolutionary algorithm to find an ANN controller for the CartPole task."
   ]
  },
  {
   "cell_type": "code",
   "execution_count": 184,
   "id": "8b508e9c",
   "metadata": {
    "deletable": true,
    "editable": true,
    "id": "e3b15abf",
    "lines_to_next_cell": 2
   },
   "outputs": [],
   "source": [
    "#################################\n",
    "# Grading\n",
    "# 0 pts if the code does not work, code works but it is fundamentally incorrect\n",
    "# 1.6 pts if the code works but some functions are incorrect and it is badly explained\n",
    "# 3.8 pts if the code works but some functions are incorrect but it is explained well\n",
    "# 4.2 pts if the code works very well aligned with the task without any mistakes, but it is badly explained\n",
    "# 5 pts if the code works very well aligned with the task without any mistakes, and it is well explained\n",
    "################################################################\n",
    "\n",
    "\n",
    "# Artificial Neural Network parameters (weights)\n",
    "# See here: https://www.gymlibrary.dev/environments/classic_control/cart_pole/ for input and output space\n",
    "# PLEASE SPECIFY BELOW\n",
    "input_neurons = 4\n",
    "hidden_neurons = 10\n",
    "output_neurons = 2\n",
    "\n",
    "# Create the OpenAI gym environment\n",
    "environment = gym.make(\"CartPole-v1\")\n",
    "\n",
    "class SimpleEnvironment: # Simple environment for testing purposes\n",
    "    def __init__(self, target_position=10): # Target position is the position the agent needs to reach\n",
    "        self.position = 0\n",
    "        self.target_position = target_position # Target position\n",
    "\n",
    "    def reset(self): # Reset the environment\n",
    "        self.position = 0 # Reset the position\n",
    "        return np.array([self.position]) # Return the initial observation\n",
    "\n",
    "    def step(self, action):\n",
    "        if action == 0:\n",
    "            self.position -= 1  # move left\n",
    "        else:\n",
    "            self.position += 1  # move right\n",
    "\n",
    "        done = self.position == self.target_position # Check if the agent has reached the target position\n",
    "        reward = 1 if done else -1 # Reward is 1 if the agent has reached the target position, -1 otherwise\n",
    "\n",
    "        return np.array([self.position]), reward, done, {} # Return the observation, reward, done flag and info\n",
    "\n",
    "def evaluate_cartpole(individual):\n",
    "    observation, info = environment.reset(seed = 0) # Reset the environment\n",
    "\n",
    "    total_reward = 0\n",
    "    step_count = 0\n",
    "    done = False\n",
    "    max_steps = 1000\n",
    "\n",
    "    for step_count in range(max_steps): # Loop until the maximum number of steps is reached\n",
    "        w1 = np.array(individual[:input_neurons*hidden_neurons]).reshape((input_neurons, hidden_neurons)) # Weights for the first layer\n",
    "        w2 = np.array(individual[input_neurons*hidden_neurons:]).reshape((hidden_neurons, output_neurons)) # Weights for the second layer\n",
    "\n",
    "        hidden_layer = np.tanh(np.dot(observation, w1)) # Hidden layer\n",
    "        output_layer = np.dot(hidden_layer, w2) # Output layer\n",
    "        action = np.argmax(output_layer) # Choose the action with the highest output\n",
    "\n",
    "        observation, reward, done, tr, info = environment.step(action) # Take a step in the environment\n",
    "        total_reward += reward # Increment the total reward\n",
    "\n",
    "        if done: # If the episode is done\n",
    "            break # Exit the loop\n",
    "\n",
    "    environment.close() # Close the environment\n",
    "    return min(max_steps, total_reward)\n",
    "\n",
    "def initialize_population(population_size, num_dimensions):\n",
    "    lower_bound = -2 # Lower bound for the random numbers\n",
    "    upper_bound = 2 # Upper bound for the random numbers\n",
    "\n",
    "    population = np.random.uniform(lower_bound, upper_bound, (population_size, num_dimensions)) # Generate a random population\n",
    "\n",
    "    return population\n",
    "\n",
    "def evaluate_population(population, objective_function):\n",
    "    fitness_scores = [] # List to store the fitness scores\n",
    "\n",
    "    for individual in population:\n",
    "        fitness = objective_function(individual) # Evaluate the individual\n",
    "        fitness_scores.append(fitness) # Append the fitness score to the list\n",
    "\n",
    "    fitness_scores = np.array(fitness_scores) # Convert the list to a numpy array\n",
    "\n",
    "    return fitness_scores\n",
    "\n",
    "def perform_crossover(parents, crossover_probability):\n",
    "    offspring = []\n",
    "    i = 0\n",
    "    while i < len(parents): # Loop through the parents\n",
    "        if np.random.rand() < crossover_probability: # Check if the crossover should be performed\n",
    "            crossover_point = np.random.randint(0, len(parents[i])) # Choose a random crossover point\n",
    "            offspring.append(np.concatenate((parents[i][:crossover_point], parents[(i+1)][crossover_point:]))) # Perform the crossover\n",
    "            offspring.append(np.concatenate((parents[i][crossover_point:], parents[(i+1)][:crossover_point])))\n",
    "        else:\n",
    "            offspring.append(parents[i]) # Append the parents to the offspring\n",
    "            offspring.append(parents[i+1])\n",
    "        i += 2\n",
    "\n",
    "    return offspring\n",
    "\n",
    "def perform_mutation(population, mutation_rate):\n",
    "    i = 0 # Initialize the counter\n",
    "    while i < len(population): # Loop through the population\n",
    "        if np.random.rand() < mutation_rate: # Check if the mutation should be performed\n",
    "            mutation_index = np.random.randint(0, len(population[i])) # Choose a random mutation index\n",
    "            population[i][mutation_index] = np.random.uniform(-1, 1) # Perform the mutation\n",
    "        i += 1 # Increment the counter\n",
    "    return population\n",
    "\n",
    "def select_parents(population, fitness):\n",
    "    sorted_indices = np.argsort(fitness) # Sort the fitness scores\n",
    "    return [population[i] for i in sorted_indices[:10]], [fitness[i] for i in sorted_indices[:10]] # Return the top 10 individuals\n",
    "\n",
    "def select_survivors(population, fitness, offspring, offspring_fitness):\n",
    "    population = np.concatenate((population, offspring)) # Concatenate the population and offspring\n",
    "    fitness = np.concatenate((fitness, offspring_fitness)) # Concatenate the fitness scores\n",
    "    sorted_indices = np.argsort(fitness)[::-1] # Sort the fitness scores in descending order\n",
    "    return population[sorted_indices][:len(population)], fitness[sorted_indices][:len(fitness)] # Return the top individuals\n",
    "\n",
    "def evolutionary_algorithm(population_size, max_fitness_evaluations, crossover_probability, mutation_rate, objective_function):\n",
    "    dimensions = input_neurons * hidden_neurons + hidden_neurons * output_neurons # Calculate the number of dimensions\n",
    "\n",
    "    max_generations = int(max_fitness_evaluations / population_size) # Calculate the maximum number of generations\n",
    "    population = initialize_population(population_size, dimensions) # Initialize the population\n",
    "    fitness = evaluate_population(population, objective_function) # Evaluate the population\n",
    "\n",
    "    best_individual_index = np.argmax(fitness) # Find the index of the best individual\n",
    "    best_individuals = [population[best_individual_index]] # List to store the best individuals\n",
    "    best_fitness = [fitness[best_individual_index]] # List to store the best fitness scores\n",
    "\n",
    "    generation = 0\n",
    "    while generation < max_generations - 1: # Loop through the generations\n",
    "        parents, parents_fitness = select_parents(population, fitness) # Select the parents\n",
    "        offspring = perform_crossover(parents, crossover_probability) # Perform the crossover\n",
    "        offspring = perform_mutation(offspring, mutation_rate) # Perform the mutation\n",
    "        offspring_fitness = evaluate_population(offspring, objective_function) # Evaluate the offspring\n",
    "\n",
    "        population, fitness = select_survivors(population, fitness, offspring, offspring_fitness) # Select the survivors\n",
    "\n",
    "        best_individual_index = np.argmax(fitness) # Find the index of the best individual\n",
    "        if fitness[best_individual_index] > best_fitness[-1]:\n",
    "            best_individuals.append(population[best_individual_index]) # Append the best individual to the list\n",
    "            best_fitness.append(fitness[best_individual_index]) # Append the best fitness score to the list\n",
    "        else:\n",
    "            best_individuals.append(best_individuals[-1]) # Append the previous best individual to the list\n",
    "            best_fitness.append(best_fitness[-1]) # Append the previous best fitness score to the list\n",
    "        generation += 1\n",
    "\n",
    "    return best_individuals, best_fitness"
   ]
  },
  {
   "cell_type": "markdown",
   "id": "52ddb0a4",
   "metadata": {
    "deletable": true,
    "editable": true,
    "id": "61c71a2d"
   },
   "source": [
    "#### Check Your Implementation: Running The Evolutionary Algorithm\n",
    "\n",
    "Run the cell below, if you implemented everything correctly, you should see the algorithm running. Furthermore,"
   ]
  },
  {
   "cell_type": "code",
   "execution_count": 185,
   "id": "e85066e6",
   "metadata": {
    "deletable": true,
    "editable": true,
    "id": "1266f3a3",
    "lines_to_next_cell": 2
   },
   "outputs": [
    {
     "name": "stdout",
     "output_type": "stream",
     "text": [
      "Best ANN parameters found: [ 0.08283728 -0.79256556 -1.40881678 -0.3503358  -0.02545031 -1.39212336\n",
      " -0.15077187 -1.35668144 -0.86008792 -1.09818364  0.27897969 -1.67336635\n",
      " -0.06625724 -0.90635417  1.30594192  1.30588321  1.43882792  0.98569875\n",
      " -0.12656481 -1.47591832  1.46471963 -1.42066149 -0.66992878 -0.02531165\n",
      "  1.56758315 -1.87935178 -0.39892071 -1.40317306  1.59643505  0.96912162\n",
      "  1.56040833  1.1232672   0.82242958  0.74593328 -0.25792858 -1.41896757\n",
      " -1.08903368 -0.46105097 -0.14014045  0.41291675 -0.9706581   0.7812752\n",
      "  1.70485353 -1.61066525  0.72648937  1.79151494  0.1804119  -1.53525396\n",
      " -0.10232364  1.53961965 -0.53022991 -1.81537345  1.13741167 -0.08692545\n",
      " -0.20422096 -1.9830867  -1.38729032  0.42743139 -1.97751213 -1.51359841]\n",
      "Best fitness found: 1000.0\n",
      "The best fitness 1000 was found!\n"
     ]
    }
   ],
   "source": [
    "kwargs = {\n",
    "    \"population_size\": 20,\n",
    "    \"max_fitness_evaluations\": 1000,  # maximum number of fitness evaluations\n",
    "    \"crossover_probability\": 0.9,  # crossover probability\n",
    "    \"mutation_rate\": 0.1,  # mutation rate\n",
    "    \"objective_function\": evaluate_cartpole,\n",
    "}\n",
    "\n",
    "# Run your algorithm once and find the best ANN weights found\n",
    "x_best, f_best = evolutionary_algorithm(**kwargs)\n",
    "\n",
    "# Print the best ANN weights found and best fitness\n",
    "print(\"Best ANN parameters found:\", x_best[-1])\n",
    "print(\"Best fitness found:\", f_best[-1])\n",
    "\n",
    "# Evaluate your ANN weights again\n",
    "if f_best[-1] >= 1000:\n",
    "    print(\"The best fitness 1000 was found!\")\n",
    "else:\n",
    "    print(\"The best fitness 1000 was not found, try again!!\")"
   ]
  },
  {
   "cell_type": "markdown",
   "id": "7e862cf9",
   "metadata": {
    "id": "XhHV4wTRo53p"
   },
   "source": [
    "---\n",
    "**Question 3 (0-0.25-0.5 pt):** Please comment on the behavior of the final solution. Were you able to find the best solution (i.e. ANN weights which achieves best fitness: 1000) and was it possible to controll the CartPole task without letting the the pole fall?\n",
    "\n",
    "**Answer:** The Algorithm successfully found the besst solution which achieved the fitness score of 1000. Thus, the ANN was able to control the CartPole task without letting the pole fall. The best weight found represents the best answer for the given parameters and objective function. "
   ]
  },
  {
   "cell_type": "markdown",
   "id": "3dfd08c2",
   "metadata": {
    "deletable": true,
    "editable": true,
    "id": "73ddbb30",
    "lines_to_next_cell": 2
   },
   "source": [
    "**Average results of your algorithm**\n",
    "\n",
    "Remember that the EAs are sthocastic algorithms that can produce different results as a result of independent runs.\n",
    "\n",
    "Therefore, we would like to see the average results and standard deviations.\n"
   ]
  },
  {
   "cell_type": "markdown",
   "id": "db881769",
   "metadata": {
    "id": "ogLrFqM4p1FP"
   },
   "source": [
    "---\n",
    "**Task 2 (0-1.5-3 pt):** Please run your algorithm for at least 10 times and plot the average results and standard deviations. Below, you may add as many cells as you need for this implementation and plot functions. You may use previous code you have developed/used during the course."
   ]
  },
  {
   "cell_type": "code",
   "execution_count": 186,
   "id": "d4ebdf64",
   "metadata": {},
   "outputs": [],
   "source": [
    "def calculate_mean_std(f_best):\n",
    "    \"\"\"This is a helper function to calculate the mean and standard deviation of the best fitness values.\"\"\"\n",
    "    max_length = max(len(lst) for lst in f_best) # Find the length of the longest list\n",
    "    padded_lists = [] # Create an empty list to store the padded lists\n",
    "    for lst in f_best: \n",
    "        padded_list = lst + [np.nan] * (max_length - len(lst)) # Pad the lists with np.nan values\n",
    "        padded_lists.append(padded_list) # Append the padded lists to the list of padded lists\n",
    "\n",
    "    f_best = np.array(padded_lists) # Convert the list of padded lists to a numpy array\n",
    "\n",
    "    avg = np.nanmean(f_best, axis=0) # Calculate the mean of the best fitness values\n",
    "    std = np.nanstd(f_best, axis=0) # Calculate the standard deviation of the best fitness values\n",
    "\n",
    "    return avg, std"
   ]
  },
  {
   "cell_type": "code",
   "execution_count": 188,
   "id": "361ce179",
   "metadata": {},
   "outputs": [],
   "source": [
    "def run_experiment(population_size, p_crossover, m_rate):\n",
    "    runs = 10  # DO NOT CHANGE - number of runs\n",
    "    max_fit_evals = 5000 # DO NOT CHANGE - maximum number of fitness evaluations\n",
    "\n",
    "    fitness_result = [] # List to store the best fitness values for the fitness_result function\n",
    "\n",
    "\n",
    "    run = 0 # Initialize the run counter\n",
    "    while run < runs: # Loop through the runs\n",
    "        _, best_fitness = evolutionary_algorithm( # Run the evolutionary algorithm\n",
    "            population_size[0], # Population size\n",
    "            max_fit_evals, # Maximum number of fitness evaluations\n",
    "            p_crossover[0], # Crossover probability\n",
    "            m_rate[0], # Mutation rate\n",
    "            evaluate_cartpole, # Objective function\n",
    "        )\n",
    "        run += 1 # Increment the run counter\n",
    "        fitness_result.append(best_fitness) # Append the best fitness values to the list\n",
    "\n",
    "    avg_fitness, std_fitness = calculate_mean_std(fitness_result) # Calculate the mean and standard deviation of the best fitness values\n",
    "\n",
    "    avgs = [avg_fitness] # List to store the average fitness values\n",
    "    stds = [std_fitness] # List to store the standard deviation of the fitness values\n",
    "    all_runs = [fitness_result] # List to store the best fitness values for each run\n",
    "\n",
    "    return avgs, stds, all_runs # Return the average fitness values, standard deviation of the fitness values, and the best fitness values for each run"
   ]
  },
  {
   "cell_type": "code",
   "execution_count": 189,
   "id": "98bb6b89",
   "metadata": {},
   "outputs": [],
   "source": [
    "def generate_subplot_function(avgs_exp_1,stds_exp_1,labels,avgs_exp_2,stds_exp_2,n_cols,n_queens):\n",
    "    \"\"\"This helper function generates subplots for the experiments.\"\"\"\n",
    "    fig, axes = plt.subplots(figsize=(13, 9)) # Create a figure and axes\n",
    "    idx = 0 # Initialize the counter\n",
    "    while idx < len(avgs_exp_1): # Loop through the number of subplots\n",
    "        axes.plot(avgs_exp_1[idx], label=\"Experiment 1\", color=\"blue\") # Plot the average fitness values for experiment 1\n",
    "        axes.fill_between(np.arange(len(avgs_exp_1[idx])),avgs_exp_1[idx] - stds_exp_1[idx],avgs_exp_1[idx] + stds_exp_1[idx],alpha=0.2,color=\"blue\",) # Fill the area between the average fitness values and the standard deviation\n",
    "        axes.set_title(labels[idx]) # Set the title of the subplot\n",
    "        axes.set_ylim(bottom=0) # Set the lower limit of the y-axis\n",
    "        if n_queens: # Check if the number of queens is specified\n",
    "            axes.set_ylim(top=n_queens[idx]) # Set the upper limit of the y-axis\n",
    "\n",
    "        idx += 1\n",
    "    axes.set_xlabel(\"Generations\") # Set the x-axis label\n",
    "    axes.set_ylabel(\"Avg Best Fitness\") #  Set the y-axis label\n",
    "    axes.legend() # Add a legend to the plot\n",
    "\n",
    "    plt.tight_layout()"
   ]
  },
  {
   "cell_type": "code",
   "execution_count": 190,
   "id": "8473e7f0",
   "metadata": {},
   "outputs": [],
   "source": [
    "population_size = [50]  # DO NOT CHANGE\n",
    "p_crossover = [0.9]  # DO NOT CHANGE\n",
    "m_rate = [0.5]  # DO NOT CHANGE\n",
    "\n",
    "avgs_exp_1, stds_exp_1, all_runs_experiment_1 = run_experiment(\n",
    "    population_size, p_crossover, m_rate\n",
    ")"
   ]
  },
  {
   "cell_type": "code",
   "execution_count": 192,
   "id": "3776200b",
   "metadata": {},
   "outputs": [
    {
     "data": {
      "image/png": "[encoded data removed]",
      "text/plain": [
       "<Figure size 1300x900 with 1 Axes>"
      ]
     },
     "metadata": {},
     "output_type": "display_data"
    }
   ],
   "source": [
    "labels = [  # DO NOT CHANGE\n",
    "    \"Fitness over all generations\",\n",
    "]\n",
    "\n",
    "generate_subplot_function(\n",
    "    avgs_exp_1,\n",
    "    stds_exp_1,\n",
    "    labels,\n",
    "    avgs_exp_2=None,\n",
    "    stds_exp_2=None,\n",
    "    n_cols=2,\n",
    "    n_queens=None,\n",
    ")"
   ]
  },
  {
   "cell_type": "markdown",
   "id": "b3890d84",
   "metadata": {
    "id": "hAyp-arbqChy"
   },
   "source": [
    "---\n",
    "**Question 4 (0-0.25-0.5 pt):** Please comment on the average behavior of your algorithm. How did the average results and standard deviations look? Did your algorithm converge all the time to the best fitness?\n",
    "\n",
    "**Answer:** On average, my algorithm performs really well. It starts from a certain point and continuously climbs upwards until it reaches the best fitness of 1000. After getting to the best fitness (1000), it stays there as it should. The average fitness of the population increased over time with the algorithm progressing, which indicates that the algoirthm is exploring the solution space and finding increasinly better solutions."
   ]
  }
 ],
 "metadata": {
  "colab": {
   "provenance": []
  },
  "jupytext": {
   "formats": "ipynb,md,py:light"
  },
  "kernelspec": {
   "display_name": "Python 3 (ipykernel)",
   "language": "python",
   "name": "python3"
  },
  "language_info": {
   "codemirror_mode": {
    "name": "ipython",
    "version": 3
   },
   "file_extension": ".py",
   "mimetype": "text/x-python",
   "name": "python",
   "nbconvert_exporter": "python",
   "pygments_lexer": "ipython3",
   "version": "3.11.5"
  },
  "toc": {
   "base_numbering": 1
  }
 },
 "nbformat": 4,
 "nbformat_minor": 5
}
